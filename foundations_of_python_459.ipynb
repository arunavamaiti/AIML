{
 "cells": [
  {
   "cell_type": "markdown",
   "metadata": {},
   "source": [
    "# x =4 + 2"
   ]
  },
  {
   "cell_type": "code",
   "execution_count": 2,
   "metadata": {},
   "outputs": [
    {
     "name": "stdout",
     "output_type": "stream",
     "text": [
      "6\n"
     ]
    }
   ],
   "source": [
    "print(x)\n"
   ]
  },
  {
   "cell_type": "code",
   "execution_count": 1,
   "metadata": {},
   "outputs": [],
   "source": [
    "x = 4 -2 \n"
   ]
  },
  {
   "cell_type": "code",
   "execution_count": 2,
   "metadata": {},
   "outputs": [
    {
     "data": {
      "text/plain": [
       "2"
      ]
     },
     "execution_count": 2,
     "metadata": {},
     "output_type": "execute_result"
    }
   ],
   "source": [
    "x\n"
   ]
  },
  {
   "cell_type": "code",
   "execution_count": 3,
   "metadata": {},
   "outputs": [],
   "source": [
    "x = 4 * 2"
   ]
  },
  {
   "cell_type": "code",
   "execution_count": 4,
   "metadata": {},
   "outputs": [
    {
     "data": {
      "text/plain": [
       "8"
      ]
     },
     "execution_count": 4,
     "metadata": {},
     "output_type": "execute_result"
    }
   ],
   "source": [
    "x\n"
   ]
  },
  {
   "cell_type": "code",
   "execution_count": 5,
   "metadata": {},
   "outputs": [],
   "source": [
    "x = 5 // 2"
   ]
  },
  {
   "cell_type": "code",
   "execution_count": 6,
   "metadata": {},
   "outputs": [
    {
     "data": {
      "text/plain": [
       "2"
      ]
     },
     "execution_count": 6,
     "metadata": {},
     "output_type": "execute_result"
    }
   ],
   "source": [
    "x\n"
   ]
  },
  {
   "cell_type": "code",
   "execution_count": 7,
   "metadata": {},
   "outputs": [],
   "source": [
    "x= 5 / 2"
   ]
  },
  {
   "cell_type": "code",
   "execution_count": 8,
   "metadata": {},
   "outputs": [
    {
     "data": {
      "text/plain": [
       "2.5"
      ]
     },
     "execution_count": 8,
     "metadata": {},
     "output_type": "execute_result"
    }
   ],
   "source": [
    "x\n"
   ]
  },
  {
   "cell_type": "code",
   "execution_count": 9,
   "metadata": {},
   "outputs": [
    {
     "data": {
      "text/plain": [
       "100"
      ]
     },
     "execution_count": 9,
     "metadata": {},
     "output_type": "execute_result"
    }
   ],
   "source": [
    "\n",
    "speed = 25\n",
    "time = 4\n",
    "distance = speed * time\n",
    "distance"
   ]
  },
  {
   "cell_type": "code",
   "execution_count": 3,
   "metadata": {},
   "outputs": [
    {
     "data": {
      "text/plain": [
       "2000"
      ]
     },
     "execution_count": 3,
     "metadata": {},
     "output_type": "execute_result"
    }
   ],
   "source": [
    "\n",
    "Principal =5000\n",
    "Rate = 10\n",
    "Time = 4\n",
    "SimpleInterest = ( Principal * Rate * Time ) // 100\n",
    "int(SimpleInterest)"
   ]
  },
  {
   "cell_type": "code",
   "execution_count": 6,
   "metadata": {},
   "outputs": [],
   "source": [
    "Area_square = (4)**2"
   ]
  },
  {
   "cell_type": "code",
   "execution_count": 7,
   "metadata": {},
   "outputs": [
    {
     "data": {
      "text/plain": [
       "16"
      ]
     },
     "execution_count": 7,
     "metadata": {},
     "output_type": "execute_result"
    }
   ],
   "source": [
    "Area_square"
   ]
  },
  {
   "cell_type": "code",
   "execution_count": 8,
   "metadata": {},
   "outputs": [
    {
     "name": "stdout",
     "output_type": "stream",
     "text": [
      "11\n"
     ]
    }
   ],
   "source": [
    "print(1 + 2 ** 3 // 4 * 5)"
   ]
  },
  {
   "cell_type": "code",
   "execution_count": 9,
   "metadata": {},
   "outputs": [],
   "source": [
    "my_name = \"John\"\n",
    "age = 28\n",
    "pi = 3.14"
   ]
  },
  {
   "cell_type": "code",
   "execution_count": 10,
   "metadata": {},
   "outputs": [
    {
     "name": "stdout",
     "output_type": "stream",
     "text": [
      "John\n",
      "3.14\n"
     ]
    }
   ],
   "source": [
    "print(my_name)\n",
    "print(pi)"
   ]
  },
  {
   "cell_type": "code",
   "execution_count": 14,
   "metadata": {},
   "outputs": [
    {
     "data": {
      "text/plain": [
       "200"
      ]
     },
     "execution_count": 14,
     "metadata": {},
     "output_type": "execute_result"
    }
   ],
   "source": [
    "bank_balance  = 200\n",
    "bank_balance"
   ]
  },
  {
   "cell_type": "code",
   "execution_count": 18,
   "metadata": {},
   "outputs": [],
   "source": [
    "x = 10"
   ]
  },
  {
   "cell_type": "code",
   "execution_count": 21,
   "metadata": {},
   "outputs": [],
   "source": [
    "my_int = int(20)"
   ]
  },
  {
   "cell_type": "code",
   "execution_count": 22,
   "metadata": {},
   "outputs": [],
   "source": [
    "my_float = 15.85"
   ]
  },
  {
   "cell_type": "code",
   "execution_count": 23,
   "metadata": {},
   "outputs": [],
   "source": [
    "my_string  = 'Hello World'"
   ]
  },
  {
   "cell_type": "code",
   "execution_count": 24,
   "metadata": {},
   "outputs": [],
   "source": [
    "my_bool  = True"
   ]
  },
  {
   "cell_type": "code",
   "execution_count": 37,
   "metadata": {},
   "outputs": [],
   "source": [
    "height  =20\n",
    "width = 80\n",
    "area_of_rectangle = height * width"
   ]
  },
  {
   "cell_type": "code",
   "execution_count": 38,
   "metadata": {},
   "outputs": [
    {
     "data": {
      "text/plain": [
       "1600"
      ]
     },
     "execution_count": 38,
     "metadata": {},
     "output_type": "execute_result"
    }
   ],
   "source": [
    "area_of_rectangle"
   ]
  },
  {
   "cell_type": "code",
   "execution_count": 43,
   "metadata": {},
   "outputs": [
    {
     "ename": "TypeError",
     "evalue": "must be str, not int",
     "output_type": "error",
     "traceback": [
      "\u001b[0;31m---------------------------------------------------------------------------\u001b[0m",
      "\u001b[0;31mTypeError\u001b[0m                                 Traceback (most recent call last)",
      "\u001b[0;32m<ipython-input-43-203293212f57>\u001b[0m in \u001b[0;36m<module>\u001b[0;34m\u001b[0m\n\u001b[0;32m----> 1\u001b[0;31m \u001b[0mprint\u001b[0m\u001b[0;34m(\u001b[0m\u001b[0;34m\"game\"\u001b[0m \u001b[0;34m+\u001b[0m \u001b[0;36m1\u001b[0m\u001b[0;34m)\u001b[0m\u001b[0;34m\u001b[0m\u001b[0;34m\u001b[0m\u001b[0m\n\u001b[0m",
      "\u001b[0;31mTypeError\u001b[0m: must be str, not int"
     ]
    }
   ],
   "source": [
    "print(\"game\" + 1)"
   ]
  },
  {
   "cell_type": "code",
   "execution_count": 44,
   "metadata": {},
   "outputs": [],
   "source": [
    "total_interest = 9762.69"
   ]
  },
  {
   "cell_type": "code",
   "execution_count": 45,
   "metadata": {},
   "outputs": [
    {
     "data": {
      "text/plain": [
       "float"
      ]
     },
     "execution_count": 45,
     "metadata": {},
     "output_type": "execute_result"
    }
   ],
   "source": [
    "type(total_interest )"
   ]
  },
  {
   "cell_type": "code",
   "execution_count": 46,
   "metadata": {},
   "outputs": [
    {
     "data": {
      "text/plain": [
       "int"
      ]
     },
     "execution_count": 46,
     "metadata": {},
     "output_type": "execute_result"
    }
   ],
   "source": [
    "type(area_of_rectangle )"
   ]
  },
  {
   "cell_type": "code",
   "execution_count": 1,
   "metadata": {},
   "outputs": [
    {
     "name": "stdout",
     "output_type": "stream",
     "text": [
      "13\n"
     ]
    }
   ],
   "source": [
    "print(5 + 8)"
   ]
  },
  {
   "cell_type": "code",
   "execution_count": 2,
   "metadata": {},
   "outputs": [
    {
     "name": "stdout",
     "output_type": "stream",
     "text": [
      "John Barley\n"
     ]
    }
   ],
   "source": [
    "print(\"John\" + \" \" + \"Barley\")"
   ]
  },
  {
   "cell_type": "code",
   "execution_count": 3,
   "metadata": {},
   "outputs": [
    {
     "ename": "TypeError",
     "evalue": "must be str, not int",
     "output_type": "error",
     "traceback": [
      "\u001b[0;31m---------------------------------------------------------------------------\u001b[0m",
      "\u001b[0;31mTypeError\u001b[0m                                 Traceback (most recent call last)",
      "\u001b[0;32m<ipython-input-3-e6f4ed3c98d3>\u001b[0m in \u001b[0;36m<module>\u001b[0;34m\u001b[0m\n\u001b[0;32m----> 1\u001b[0;31m \u001b[0mprint\u001b[0m\u001b[0;34m(\u001b[0m\u001b[0;34m\"BMI is \"\u001b[0m \u001b[0;34m+\u001b[0m \u001b[0;36m25\u001b[0m\u001b[0;34m)\u001b[0m\u001b[0;34m\u001b[0m\u001b[0;34m\u001b[0m\u001b[0m\n\u001b[0m",
      "\u001b[0;31mTypeError\u001b[0m: must be str, not int"
     ]
    }
   ],
   "source": [
    "print(\"BMI is \" + 25)"
   ]
  },
  {
   "cell_type": "code",
   "execution_count": 6,
   "metadata": {},
   "outputs": [
    {
     "name": "stdout",
     "output_type": "stream",
     "text": [
      "BMI is  25\n"
     ]
    }
   ],
   "source": [
    "bmi = 25\n",
    "\n",
    "print(\"BMI is \", + bmi)\n",
    "bmi_str =str(bmi)"
   ]
  },
  {
   "cell_type": "code",
   "execution_count": 14,
   "metadata": {},
   "outputs": [],
   "source": [
    "message = \"BMI is \" + bmi_str"
   ]
  },
  {
   "cell_type": "markdown",
   "metadata": {},
   "source": [
    "message"
   ]
  },
  {
   "cell_type": "code",
   "execution_count": 16,
   "metadata": {},
   "outputs": [
    {
     "data": {
      "text/plain": [
       "'BMI is 25'"
      ]
     },
     "execution_count": 16,
     "metadata": {},
     "output_type": "execute_result"
    }
   ],
   "source": [
    "message"
   ]
  },
  {
   "cell_type": "code",
   "execution_count": 30,
   "metadata": {},
   "outputs": [],
   "source": [
    "first='Cloudx'\n",
    "second='Lab'\n",
    "final=first+second"
   ]
  },
  {
   "cell_type": "code",
   "execution_count": 31,
   "metadata": {},
   "outputs": [
    {
     "data": {
      "text/plain": [
       "'CloudxLab'"
      ]
     },
     "execution_count": 31,
     "metadata": {},
     "output_type": "execute_result"
    }
   ],
   "source": [
    "final"
   ]
  },
  {
   "cell_type": "code",
   "execution_count": 28,
   "metadata": {},
   "outputs": [],
   "source": [
    "games = \"football\" + \"basketball\""
   ]
  },
  {
   "cell_type": "code",
   "execution_count": 29,
   "metadata": {},
   "outputs": [
    {
     "data": {
      "text/plain": [
       "'footballbasketball'"
      ]
     },
     "execution_count": 29,
     "metadata": {},
     "output_type": "execute_result"
    }
   ],
   "source": [
    "games"
   ]
  },
  {
   "cell_type": "code",
   "execution_count": 42,
   "metadata": {},
   "outputs": [],
   "source": [
    "games = \"A\" * 20"
   ]
  },
  {
   "cell_type": "code",
   "execution_count": 43,
   "metadata": {},
   "outputs": [
    {
     "data": {
      "text/plain": [
       "'AAAAAAAAAAAAAAAAAAAA'"
      ]
     },
     "execution_count": 43,
     "metadata": {},
     "output_type": "execute_result"
    }
   ],
   "source": [
    "games"
   ]
  },
  {
   "cell_type": "code",
   "execution_count": 46,
   "metadata": {},
   "outputs": [],
   "source": [
    "animal = 'cat'"
   ]
  },
  {
   "cell_type": "code",
   "execution_count": 47,
   "metadata": {},
   "outputs": [],
   "source": [
    "ten_animals = animal * 10"
   ]
  },
  {
   "cell_type": "code",
   "execution_count": 48,
   "metadata": {},
   "outputs": [
    {
     "data": {
      "text/plain": [
       "'catcatcatcatcatcatcatcatcatcat'"
      ]
     },
     "execution_count": 48,
     "metadata": {},
     "output_type": "execute_result"
    }
   ],
   "source": [
    "ten_animals"
   ]
  },
  {
   "cell_type": "code",
   "execution_count": 1,
   "metadata": {},
   "outputs": [
    {
     "data": {
      "text/plain": [
       "int"
      ]
     },
     "execution_count": 1,
     "metadata": {},
     "output_type": "execute_result"
    }
   ],
   "source": [
    "type(23)"
   ]
  },
  {
   "cell_type": "code",
   "execution_count": 36,
   "metadata": {},
   "outputs": [],
   "source": [
    "def pay_calculator(hours,rate):\n",
    "\n",
    "    print(\"hours:\",hours)\n",
    "    if hours <= 40:\n",
    "        payment = hours*rate\n",
    "    else:\n",
    "        rpayment = 40*rate \n",
    "        cpayment = (hours - 40)* (rate *1.5)\n",
    "        payment = rpayment + cpayment\n",
    "    return payment\n",
    "    \n",
    "    \n",
    "    "
   ]
  },
  {
   "cell_type": "code",
   "execution_count": 37,
   "metadata": {},
   "outputs": [
    {
     "name": "stdout",
     "output_type": "stream",
     "text": [
      "hours: 45\n",
      "475.0\n"
     ]
    }
   ],
   "source": [
    "print(pay_calculator(45, 10))"
   ]
  },
  {
   "cell_type": "code",
   "execution_count": 41,
   "metadata": {},
   "outputs": [
    {
     "name": "stdout",
     "output_type": "stream",
     "text": [
      "w\n"
     ]
    }
   ],
   "source": [
    "print(max('Hello world'))"
   ]
  },
  {
   "cell_type": "code",
   "execution_count": 42,
   "metadata": {},
   "outputs": [],
   "source": [
    "area_of_circle = 78.5"
   ]
  },
  {
   "cell_type": "code",
   "execution_count": 45,
   "metadata": {},
   "outputs": [],
   "source": [
    "area_of_circle = str(area_of_circle)"
   ]
  },
  {
   "cell_type": "code",
   "execution_count": 46,
   "metadata": {},
   "outputs": [
    {
     "name": "stdout",
     "output_type": "stream",
     "text": [
      "Area of the circle is - 78.5\n"
     ]
    }
   ],
   "source": [
    "area_of_circle_msg = \"Area of the circle is - \" + area_of_circle\n",
    "print(area_of_circle_msg)"
   ]
  },
  {
   "cell_type": "code",
   "execution_count": 52,
   "metadata": {},
   "outputs": [
    {
     "data": {
      "text/plain": [
       "9"
      ]
     },
     "execution_count": 52,
     "metadata": {},
     "output_type": "execute_result"
    }
   ],
   "source": [
    "len(\"cloudxlab\")"
   ]
  },
  {
   "cell_type": "code",
   "execution_count": 54,
   "metadata": {},
   "outputs": [
    {
     "data": {
      "text/plain": [
       "'x'"
      ]
     },
     "execution_count": 54,
     "metadata": {},
     "output_type": "execute_result"
    }
   ],
   "source": [
    "max(\"cloudxlab\")"
   ]
  },
  {
   "cell_type": "code",
   "execution_count": 55,
   "metadata": {},
   "outputs": [
    {
     "data": {
      "text/plain": [
       "'a'"
      ]
     },
     "execution_count": 55,
     "metadata": {},
     "output_type": "execute_result"
    }
   ],
   "source": [
    "min(\"cloudxlab\")"
   ]
  },
  {
   "cell_type": "code",
   "execution_count": 57,
   "metadata": {},
   "outputs": [],
   "source": [
    "square_area =8.9 * 8.9"
   ]
  },
  {
   "cell_type": "code",
   "execution_count": 67,
   "metadata": {},
   "outputs": [],
   "source": [
    "square_area_type=type(square_area)\n",
    "\n",
    "square_area_int=int(square_area)\n",
    "\n",
    "square_area_str=str(square_area_int)"
   ]
  },
  {
   "cell_type": "code",
   "execution_count": 68,
   "metadata": {},
   "outputs": [
    {
     "data": {
      "text/plain": [
       "float"
      ]
     },
     "execution_count": 68,
     "metadata": {},
     "output_type": "execute_result"
    }
   ],
   "source": [
    "square_area_type"
   ]
  },
  {
   "cell_type": "code",
   "execution_count": 69,
   "metadata": {},
   "outputs": [
    {
     "data": {
      "text/plain": [
       "79"
      ]
     },
     "execution_count": 69,
     "metadata": {},
     "output_type": "execute_result"
    }
   ],
   "source": [
    "square_area_int"
   ]
  },
  {
   "cell_type": "code",
   "execution_count": 70,
   "metadata": {},
   "outputs": [
    {
     "data": {
      "text/plain": [
       "'79'"
      ]
     },
     "execution_count": 70,
     "metadata": {},
     "output_type": "execute_result"
    }
   ],
   "source": [
    "square_area_str"
   ]
  },
  {
   "cell_type": "code",
   "execution_count": 84,
   "metadata": {},
   "outputs": [],
   "source": [
    "import math"
   ]
  },
  {
   "cell_type": "code",
   "execution_count": 85,
   "metadata": {},
   "outputs": [
    {
     "data": {
      "text/plain": [
       "3.0"
      ]
     },
     "execution_count": 85,
     "metadata": {},
     "output_type": "execute_result"
    }
   ],
   "source": [
    "math.log10(1000)"
   ]
  },
  {
   "cell_type": "code",
   "execution_count": 86,
   "metadata": {},
   "outputs": [
    {
     "data": {
      "text/plain": [
       "1.0"
      ]
     },
     "execution_count": 86,
     "metadata": {},
     "output_type": "execute_result"
    }
   ],
   "source": [
    "math.cos(0)"
   ]
  },
  {
   "cell_type": "code",
   "execution_count": 87,
   "metadata": {},
   "outputs": [
    {
     "data": {
      "text/plain": [
       "2.0"
      ]
     },
     "execution_count": 87,
     "metadata": {},
     "output_type": "execute_result"
    }
   ],
   "source": [
    "math.sqrt(4)"
   ]
  },
  {
   "cell_type": "code",
   "execution_count": 89,
   "metadata": {},
   "outputs": [],
   "source": [
    "square_root= math.sqrt(56.98)"
   ]
  },
  {
   "cell_type": "code",
   "execution_count": 90,
   "metadata": {},
   "outputs": [
    {
     "data": {
      "text/plain": [
       "7.548509786706248"
      ]
     },
     "execution_count": 90,
     "metadata": {},
     "output_type": "execute_result"
    }
   ],
   "source": [
    "square_root"
   ]
  },
  {
   "cell_type": "code",
   "execution_count": 91,
   "metadata": {},
   "outputs": [],
   "source": [
    "sin_rad=26*(math.pi/180)"
   ]
  },
  {
   "cell_type": "code",
   "execution_count": 92,
   "metadata": {},
   "outputs": [
    {
     "data": {
      "text/plain": [
       "0.4537856055185257"
      ]
     },
     "execution_count": 92,
     "metadata": {},
     "output_type": "execute_result"
    }
   ],
   "source": [
    "sin_rad"
   ]
  },
  {
   "cell_type": "code",
   "execution_count": 93,
   "metadata": {},
   "outputs": [],
   "source": [
    "sin_degree=math.sin(sin_rad)"
   ]
  },
  {
   "cell_type": "code",
   "execution_count": 95,
   "metadata": {},
   "outputs": [
    {
     "name": "stdout",
     "output_type": "stream",
     "text": [
      "7.548509786706248\n",
      "0.4537856055185257\n",
      "0.4383711467890774\n",
      "6.907755278982137\n"
     ]
    }
   ],
   "source": [
    "log_e=math.log(1000)\n",
    "print(square_root)\n",
    "print(sin_rad)\n",
    "print(sin_degree)\n",
    "print(log_e)"
   ]
  },
  {
   "cell_type": "code",
   "execution_count": null,
   "metadata": {},
   "outputs": [
    {
     "name": "stdout",
     "output_type": "stream",
     "text": [
      "[[5 3 4 6 7 8 1 9 2]\n",
      " [6 7 2 1 9 5 3 4 8]\n",
      " [1 9 8 3 4 2 5 6 7]\n",
      " [8 5 9 7 6 1 4 2 3]\n",
      " [4 2 6 8 5 3 9 7 1]\n",
      " [7 1 3 9 2 4 8 5 6]\n",
      " [9 6 1 5 3 7 2 8 4]\n",
      " [2 8 7 4 1 9 6 3 5]\n",
      " [3 4 5 2 8 6 7 1 9]]\n",
      "More possible solutions2\n",
      "[[5 3 4 6 7 8 9 1 2]\n",
      " [6 7 2 1 9 5 3 4 8]\n",
      " [1 9 8 3 4 2 5 6 7]\n",
      " [8 5 9 7 6 1 4 2 3]\n",
      " [4 2 6 8 5 3 7 9 1]\n",
      " [7 1 3 9 2 4 8 5 6]\n",
      " [9 6 1 5 3 7 2 8 4]\n",
      " [2 8 7 4 1 9 6 3 5]\n",
      " [3 4 5 2 8 6 1 7 9]]\n"
     ]
    }
   ],
   "source": [
    "import numpy as np\n",
    "\n",
    "grid = [[5,3,0,0,7,0,0,0,0],\n",
    "        [6,0,0,1,9,5,0,0,0],\n",
    "        [0,9,8,0,0,0,0,6,0],\n",
    "        [8,0,0,0,6,0,0,0,3],\n",
    "        [4,0,0,8,0,3,0,0,1],\n",
    "        [7,0,0,0,2,0,0,0,6],\n",
    "        [0,6,0,0,0,0,2,8,0],\n",
    "        [0,0,0,0,1,9,0,0,5],\n",
    "        [0,0,0,0,0,0,0,0,0]]\n",
    "\n",
    "def possible(row, column, number):\n",
    "    global grid\n",
    "    #Is the number appearing in the given row?\n",
    "    for i in range(0,9):\n",
    "        if grid[row][i] == number:\n",
    "            return False\n",
    "\n",
    "    #Is the number appearing in the given column?\n",
    "    for i in range(0,9):\n",
    "        if grid[i][column] == number:\n",
    "            return False\n",
    "    \n",
    "    #Is the number appearing in the given square?\n",
    "    x0 = (column // 3) * 3\n",
    "    y0 = (row // 3) * 3\n",
    "    for i in range(0,3):\n",
    "        for j in range(0,3):\n",
    "            if grid[y0+i][x0+j] == number:\n",
    "                return False\n",
    "\n",
    "    return True\n",
    "\n",
    "def solve():\n",
    "    global grid\n",
    "    for row in range(0,9):\n",
    "        for column in range(0,9):\n",
    "            if grid[row][column] == 0:\n",
    "                for number in range(1,10):\n",
    "                    if possible(row, column, number):\n",
    "                        grid[row][column] = number\n",
    "                        solve()\n",
    "                        grid[row][column] = 0\n",
    "                return\n",
    "      \n",
    "    print(np.matrix(grid))\n",
    "\n",
    "    input('More possible solutions')\n",
    "\n",
    "solve()\n",
    "\n",
    "\n"
   ]
  },
  {
   "cell_type": "code",
   "execution_count": 12,
   "metadata": {},
   "outputs": [
    {
     "name": "stdout",
     "output_type": "stream",
     "text": [
      "0\n",
      "0.7128229909162741\n",
      "0\n",
      "xxxxxxxxxxxxxxxxxxxx\n",
      "1\n",
      "0.8046148466730194\n",
      "0\n",
      "xxxxxxxxxxxxxxxxxxxx\n",
      "2\n",
      "0.8205230346360578\n",
      "0\n",
      "xxxxxxxxxxxxxxxxxxxx\n",
      "3\n",
      "0.5908823885803363\n",
      "0\n",
      "xxxxxxxxxxxxxxxxxxxx\n",
      "4\n",
      "0.8382319558938964\n",
      "0\n",
      "xxxxxxxxxxxxxxxxxxxx\n",
      "5\n",
      "0.1687652126421728\n",
      "0\n",
      "xxxxxxxxxxxxxxxxxxxx\n",
      "6\n",
      "0.4252883343178707\n",
      "0\n",
      "xxxxxxxxxxxxxxxxxxxx\n",
      "7\n",
      "0.22086950503479752\n",
      "0\n",
      "xxxxxxxxxxxxxxxxxxxx\n",
      "8\n",
      "0.009021669973651725\n",
      "0\n",
      "xxxxxxxxxxxxxxxxxxxx\n",
      "9\n",
      "0.009824247176546064\n",
      "0\n",
      "xxxxxxxxxxxxxxxxxxxx\n"
     ]
    }
   ],
   "source": [
    "import random\n",
    "for i in range(0,10):\n",
    "    print(i)\n",
    "    random_number = random.random()\n",
    "    print (random_number)\n",
    "    random_int =int(random_number)\n",
    "    print (random_int)\n",
    "    print (\"x\" * 20)\n",
    "    "
   ]
  },
  {
   "cell_type": "code",
   "execution_count": 22,
   "metadata": {},
   "outputs": [
    {
     "name": "stdout",
     "output_type": "stream",
     "text": [
      "give the name :xyz\n"
     ]
    }
   ],
   "source": [
    "name =input (\"give the name :\")\n",
    "def print_name(name)  :\n",
    "    \n",
    "    return name "
   ]
  },
  {
   "cell_type": "code",
   "execution_count": 24,
   "metadata": {},
   "outputs": [
    {
     "data": {
      "text/plain": [
       "'xyz'"
      ]
     },
     "execution_count": 24,
     "metadata": {},
     "output_type": "execute_result"
    }
   ],
   "source": [
    "print_name(name)"
   ]
  },
  {
   "cell_type": "code",
   "execution_count": 25,
   "metadata": {},
   "outputs": [
    {
     "name": "stdout",
     "output_type": "stream",
     "text": [
      "<class 'function'>\n"
     ]
    }
   ],
   "source": [
    "print(type(print_name))"
   ]
  },
  {
   "cell_type": "code",
   "execution_count": 3,
   "metadata": {},
   "outputs": [],
   "source": [
    "def multiply(message, *args):\n",
    "    output = 1\n",
    "    for arg in args:\n",
    "        output *= arg\n",
    "    return message + \" \" + str(output)\n"
   ]
  },
  {
   "cell_type": "code",
   "execution_count": 4,
   "metadata": {},
   "outputs": [
    {
     "name": "stdout",
     "output_type": "stream",
     "text": [
      "My Sum: 48\n"
     ]
    }
   ],
   "source": [
    "multiply_value = multiply(\"My Sum:\", 1, 2, 4, 6)\n",
    "print(multiply_value)"
   ]
  },
  {
   "cell_type": "code",
   "execution_count": 5,
   "metadata": {},
   "outputs": [],
   "source": [
    "def multiply(*args, message):\n",
    "    output = 1\n",
    "    for arg in args:\n",
    "        output *= arg\n",
    "    return message + \" \" + str(output)"
   ]
  },
  {
   "cell_type": "code",
   "execution_count": 6,
   "metadata": {},
   "outputs": [
    {
     "name": "stdout",
     "output_type": "stream",
     "text": [
      "My Sum: 48\n"
     ]
    }
   ],
   "source": [
    "multiply_value = multiply(1, 2, 4, 6, message=\"My Sum:\")\n",
    "print(multiply_value)"
   ]
  },
  {
   "cell_type": "code",
   "execution_count": 7,
   "metadata": {},
   "outputs": [],
   "source": [
    "def multiply(premessage, *args, message):\n",
    "    output = 1\n",
    "    for arg in args:\n",
    "        output *= arg\n",
    "    return premessage + \" \" + str(output) + \" \" + message"
   ]
  },
  {
   "cell_type": "code",
   "execution_count": 8,
   "metadata": {},
   "outputs": [
    {
     "name": "stdout",
     "output_type": "stream",
     "text": [
      "Starting calculation: 48 My Sum:\n"
     ]
    }
   ],
   "source": [
    "multiply_value = multiply(\"Starting calculation:\", 2, 4, 6, message=\"My Sum:\")\n",
    "print(multiply_value)"
   ]
  },
  {
   "cell_type": "code",
   "execution_count": 11,
   "metadata": {},
   "outputs": [],
   "source": [
    "def groupdata(message, **kwargs):\n",
    "    grouped_data ={}\n",
    "    for key,value in kwargs.items():\n",
    "        grouped_data[key.split(\"_\")[0]] = grouped_data.get(key.split(\"_\")[0], 0) + value\n",
    "    return message + \" \" + str(grouped_data)\n",
    "\n"
   ]
  },
  {
   "cell_type": "code",
   "execution_count": 12,
   "metadata": {},
   "outputs": [
    {
     "name": "stdout",
     "output_type": "stream",
     "text": [
      "My fruits: {'apple': 9, 'orange': 12, 'banana': 11}\n"
     ]
    }
   ],
   "source": [
    "summary = groupdata(\n",
    "    \"My fruits:\",\n",
    "    apple_indian = 3,\n",
    "    orange_indian = 5,\n",
    "    apple_mexican = 6,\n",
    "    orange_mexica = 7,\n",
    "    banana=11\n",
    ")\n",
    "print(summary)"
   ]
  },
  {
   "cell_type": "code",
   "execution_count": 15,
   "metadata": {},
   "outputs": [],
   "source": [
    "def my_function (number ):\n",
    "    xyz = number\n",
    "    xyz_str = str(xyz)\n",
    "    xyz_str= xyz_str +\"cloudxlab \"\n",
    "    print(xyz_str)\n",
    "    "
   ]
  },
  {
   "cell_type": "code",
   "execution_count": 16,
   "metadata": {},
   "outputs": [
    {
     "name": "stdout",
     "output_type": "stream",
     "text": [
      "10cloudxlab \n"
     ]
    }
   ],
   "source": [
    "my_function (10 )"
   ]
  },
  {
   "cell_type": "code",
   "execution_count": 19,
   "metadata": {},
   "outputs": [],
   "source": [
    "def new_function (num):\n",
    "    import math\n",
    "    return math.pi * num\n",
    "    "
   ]
  },
  {
   "cell_type": "code",
   "execution_count": 20,
   "metadata": {},
   "outputs": [],
   "source": [
    "def void_function (num1,num2):\n",
    "    print(new_function(num1**num2))"
   ]
  },
  {
   "cell_type": "code",
   "execution_count": 21,
   "metadata": {},
   "outputs": [
    {
     "name": "stdout",
     "output_type": "stream",
     "text": [
      "216412.35147094267\n"
     ]
    }
   ],
   "source": [
    "void_function(4.6, 7.3)"
   ]
  },
  {
   "cell_type": "code",
   "execution_count": null,
   "metadata": {},
   "outputs": [],
   "source": [
    "inp = input()"
   ]
  },
  {
   "cell_type": "code",
   "execution_count": null,
   "metadata": {},
   "outputs": [],
   "source": [
    " name = input('What is Cloudxlab?\\n')"
   ]
  },
  {
   "cell_type": "code",
   "execution_count": 3,
   "metadata": {},
   "outputs": [
    {
     "name": "stdout",
     "output_type": "stream",
     "text": [
      "What is 2 multiplied by 3?\n",
      "12\n",
      "12\n"
     ]
    }
   ],
   "source": [
    "question = 'What is 2 multiplied by 3?\\n'\n",
    "answer = input(question)\n",
    "print(int(answer))"
   ]
  },
  {
   "cell_type": "code",
   "execution_count": 12,
   "metadata": {},
   "outputs": [
    {
     "name": "stdout",
     "output_type": "stream",
     "text": [
      "What am I studying ?Python\n",
      "Python\n"
     ]
    }
   ],
   "source": [
    "def input_name():\n",
    "    subject = input(\"What am I studying ?\")\n",
    "    return subject\n",
    "\n",
    "subject = input_name()\n",
    "print(subject)"
   ]
  },
  {
   "cell_type": "code",
   "execution_count": 18,
   "metadata": {},
   "outputs": [
    {
     "name": "stdout",
     "output_type": "stream",
     "text": [
      "current year:2024\n",
      "Please enter Birth year1987\n",
      "37\n"
     ]
    }
   ],
   "source": [
    "#Caclulating and printing my age\n",
    "current_year = input(\"current year:\")\n",
    "year_of_birth = input(\"Please enter Birth year\")\n",
    "age = int(current_year) - int(year_of_birth)\n",
    "print(age)"
   ]
  },
  {
   "cell_type": "code",
   "execution_count": 19,
   "metadata": {},
   "outputs": [
    {
     "name": "stdout",
     "output_type": "stream",
     "text": [
      "28\n"
     ]
    }
   ],
   "source": [
    "#Caclulating and printing my age\n",
    "current_year = 2018\n",
    "year_of_birth = 1990\n",
    "age = current_year - year_of_birth\n",
    "print(age)"
   ]
  },
  {
   "cell_type": "code",
   "execution_count": 20,
   "metadata": {},
   "outputs": [
    {
     "name": "stdout",
     "output_type": "stream",
     "text": [
      "28\n"
     ]
    }
   ],
   "source": [
    "#Caclulating and printing my age\n",
    "current_year = 2018\n",
    "year_of_birth = 1990\n",
    "age = current_year - year_of_birth\n",
    "print(age)"
   ]
  },
  {
   "cell_type": "code",
   "execution_count": 21,
   "metadata": {},
   "outputs": [
    {
     "data": {
      "text/plain": [
       "True"
      ]
     },
     "execution_count": 21,
     "metadata": {},
     "output_type": "execute_result"
    }
   ],
   "source": [
    "1 == 1"
   ]
  },
  {
   "cell_type": "code",
   "execution_count": 22,
   "metadata": {},
   "outputs": [
    {
     "data": {
      "text/plain": [
       "False"
      ]
     },
     "execution_count": 22,
     "metadata": {},
     "output_type": "execute_result"
    }
   ],
   "source": [
    "2 == 1"
   ]
  },
  {
   "cell_type": "code",
   "execution_count": 23,
   "metadata": {},
   "outputs": [
    {
     "data": {
      "text/plain": [
       "False"
      ]
     },
     "execution_count": 23,
     "metadata": {},
     "output_type": "execute_result"
    }
   ],
   "source": [
    "2 == 1\n"
   ]
  },
  {
   "cell_type": "code",
   "execution_count": 24,
   "metadata": {},
   "outputs": [
    {
     "ename": "NameError",
     "evalue": "name 'x' is not defined",
     "output_type": "error",
     "traceback": [
      "\u001b[0;31m---------------------------------------------------------------------------\u001b[0m",
      "\u001b[0;31mNameError\u001b[0m                                 Traceback (most recent call last)",
      "\u001b[0;32m<ipython-input-24-3aeb331b0520>\u001b[0m in \u001b[0;36m<module>\u001b[0;34m\u001b[0m\n\u001b[0;32m----> 1\u001b[0;31m \u001b[0mx\u001b[0m \u001b[0;34m!=\u001b[0m \u001b[0my\u001b[0m               \u001b[0;31m# x is not equal to y\u001b[0m\u001b[0;34m\u001b[0m\u001b[0;34m\u001b[0m\u001b[0m\n\u001b[0m\u001b[1;32m      2\u001b[0m \u001b[0mx\u001b[0m \u001b[0;34m>\u001b[0m \u001b[0my\u001b[0m                \u001b[0;31m# x is greater than y\u001b[0m\u001b[0;34m\u001b[0m\u001b[0;34m\u001b[0m\u001b[0m\n\u001b[1;32m      3\u001b[0m \u001b[0mx\u001b[0m \u001b[0;34m<\u001b[0m \u001b[0my\u001b[0m                \u001b[0;31m# x is less than y\u001b[0m\u001b[0;34m\u001b[0m\u001b[0;34m\u001b[0m\u001b[0m\n\u001b[1;32m      4\u001b[0m \u001b[0mx\u001b[0m \u001b[0;34m>=\u001b[0m \u001b[0my\u001b[0m               \u001b[0;31m# x is greater than or equal to y\u001b[0m\u001b[0;34m\u001b[0m\u001b[0;34m\u001b[0m\u001b[0m\n\u001b[1;32m      5\u001b[0m \u001b[0mx\u001b[0m \u001b[0;34m<=\u001b[0m \u001b[0my\u001b[0m               \u001b[0;31m# x is less than or equal to y\u001b[0m\u001b[0;34m\u001b[0m\u001b[0;34m\u001b[0m\u001b[0m\n",
      "\u001b[0;31mNameError\u001b[0m: name 'x' is not defined"
     ]
    }
   ],
   "source": [
    "x != y               # x is not equal to y\n",
    "x > y                # x is greater than y\n",
    "x < y                # x is less than y\n",
    "x >= y               # x is greater than or equal to y\n",
    "x <= y               # x is less than or equal to y\n",
    "x is y               # x is the same as y\n",
    "x is not y           # x is not the same as y"
   ]
  },
  {
   "cell_type": "code",
   "execution_count": 13,
   "metadata": {},
   "outputs": [],
   "source": [
    "def is_on_line(x1, x2, x):\n",
    "    if x1 <= x <= x2:\n",
    "        return True\n",
    "    elif x2<= x <=x1:\n",
    "        return True\n",
    "    return False\n",
    "    "
   ]
  },
  {
   "cell_type": "code",
   "execution_count": 14,
   "metadata": {},
   "outputs": [
    {
     "data": {
      "text/plain": [
       "False"
      ]
     },
     "execution_count": 14,
     "metadata": {},
     "output_type": "execute_result"
    }
   ],
   "source": [
    "\n",
    "is_on_line(10, 20, 30)\n"
   ]
  },
  {
   "cell_type": "code",
   "execution_count": 15,
   "metadata": {},
   "outputs": [
    {
     "data": {
      "text/plain": [
       "True"
      ]
     },
     "execution_count": 15,
     "metadata": {},
     "output_type": "execute_result"
    }
   ],
   "source": [
    "is_on_line(10, 20, 20)\n"
   ]
  },
  {
   "cell_type": "code",
   "execution_count": 16,
   "metadata": {},
   "outputs": [
    {
     "data": {
      "text/plain": [
       "True"
      ]
     },
     "execution_count": 16,
     "metadata": {},
     "output_type": "execute_result"
    }
   ],
   "source": [
    "is_on_line(10, 20, 20)\n"
   ]
  },
  {
   "cell_type": "code",
   "execution_count": 17,
   "metadata": {},
   "outputs": [
    {
     "data": {
      "text/plain": [
       "False"
      ]
     },
     "execution_count": 17,
     "metadata": {},
     "output_type": "execute_result"
    }
   ],
   "source": [
    "is_on_line(10, 20, -10)\n"
   ]
  },
  {
   "cell_type": "code",
   "execution_count": 18,
   "metadata": {},
   "outputs": [
    {
     "data": {
      "text/plain": [
       "True"
      ]
     },
     "execution_count": 18,
     "metadata": {},
     "output_type": "execute_result"
    }
   ],
   "source": [
    "is_on_line(-4, -5, -4.5)"
   ]
  },
  {
   "cell_type": "code",
   "execution_count": 19,
   "metadata": {},
   "outputs": [
    {
     "data": {
      "text/plain": [
       "function"
      ]
     },
     "execution_count": 19,
     "metadata": {},
     "output_type": "execute_result"
    }
   ],
   "source": [
    "type(is_on_line)"
   ]
  },
  {
   "cell_type": "code",
   "execution_count": 25,
   "metadata": {
    "code_folding": []
   },
   "outputs": [],
   "source": [
    "def conditional_statements(num1, num2, num3, num4):\n",
    "    if num1<int(num2) and num1> num3 and num1==num4 :\n",
    "        if  num3 < num1 and num3 < int(num2) and num3 < num4:\n",
    "            if type(num2) is float:\n",
    "                sum = num1+num2+num3+num4\n",
    "                print(sum)\n",
    "                \n",
    "            else:\n",
    "               # print(\"B\")\n",
    "                return None\n",
    "        else:\n",
    "            print(\"C\")\n",
    "            \n",
    "    else:\n",
    "        #print(\"D\")\n",
    "        return None"
   ]
  },
  {
   "cell_type": "code",
   "execution_count": 26,
   "metadata": {},
   "outputs": [],
   "source": [
    "conditional_statements(13,11.05,10,13)"
   ]
  },
  {
   "cell_type": "code",
   "execution_count": 27,
   "metadata": {},
   "outputs": [
    {
     "name": "stdout",
     "output_type": "stream",
     "text": [
      "None\n"
     ]
    }
   ],
   "source": [
    "print(conditional_statements(1,2.3,0,4))"
   ]
  },
  {
   "cell_type": "code",
   "execution_count": 28,
   "metadata": {},
   "outputs": [
    {
     "name": "stdout",
     "output_type": "stream",
     "text": [
      "4.3\n",
      "None\n"
     ]
    }
   ],
   "source": [
    "print(conditional_statements(1,2.3,0,1));"
   ]
  },
  {
   "cell_type": "code",
   "execution_count": 96,
   "metadata": {},
   "outputs": [],
   "source": [
    "def except_func (num):\n",
    "    try :\n",
    "            mul = num * num\n",
    "            return mul\n",
    "            print (mul)\n",
    "    except:\n",
    "        return ('invalid number')\n"
   ]
  },
  {
   "cell_type": "code",
   "execution_count": 97,
   "metadata": {},
   "outputs": [
    {
     "data": {
      "text/plain": [
       "100"
      ]
     },
     "execution_count": 97,
     "metadata": {},
     "output_type": "execute_result"
    }
   ],
   "source": [
    "except_func(10)"
   ]
  },
  {
   "cell_type": "code",
   "execution_count": 98,
   "metadata": {},
   "outputs": [
    {
     "data": {
      "text/plain": [
       "'invalid number'"
      ]
     },
     "execution_count": 98,
     "metadata": {},
     "output_type": "execute_result"
    }
   ],
   "source": [
    "except_func(\"sample\")"
   ]
  },
  {
   "cell_type": "code",
   "execution_count": 117,
   "metadata": {},
   "outputs": [],
   "source": [
    "a = 0\n",
    "\n",
    "a = a // 3"
   ]
  },
  {
   "cell_type": "code",
   "execution_count": 118,
   "metadata": {},
   "outputs": [
    {
     "data": {
      "text/plain": [
       "0"
      ]
     },
     "execution_count": 118,
     "metadata": {},
     "output_type": "execute_result"
    }
   ],
   "source": [
    "a"
   ]
  },
  {
   "cell_type": "code",
   "execution_count": 126,
   "metadata": {},
   "outputs": [
    {
     "name": "stdout",
     "output_type": "stream",
     "text": [
      "i 9 >k 0\n",
      "i 41 >k 9\n",
      "i 74 >k 41\n",
      "largest is:  74\n"
     ]
    }
   ],
   "source": [
    "k = 0\n",
    "for i in [9, 41, 12, 3, 74, 15] :\n",
    "    if i > k :\n",
    "        print(\"i\",i,\">k\",k)\n",
    "        k = i\n",
    "print (\"largest is: \",k)   "
   ]
  },
  {
   "cell_type": "code",
   "execution_count": 22,
   "metadata": {},
   "outputs": [],
   "source": [
    "def print_even(n):\n",
    "    for i in range (n):\n",
    "        if i%2 == 0:\n",
    "            print (i)\n",
    "        \n",
    "        "
   ]
  },
  {
   "cell_type": "code",
   "execution_count": 21,
   "metadata": {},
   "outputs": [
    {
     "data": {
      "text/plain": [
       "0"
      ]
     },
     "execution_count": 21,
     "metadata": {},
     "output_type": "execute_result"
    }
   ],
   "source": [
    "x =0%2\n",
    "x"
   ]
  },
  {
   "cell_type": "code",
   "execution_count": 24,
   "metadata": {},
   "outputs": [
    {
     "name": "stdout",
     "output_type": "stream",
     "text": [
      "0\n",
      "2\n",
      "4\n"
     ]
    }
   ],
   "source": [
    "print_even(5)\n"
   ]
  },
  {
   "cell_type": "code",
   "execution_count": null,
   "metadata": {},
   "outputs": [],
   "source": [
    "def binary_search(arr, target):\n",
    "    low, high = 0, len(arr) - 1\n",
    "    \n",
    "    while low <= high:\n",
    "        mid = (low + high) // 2\n",
    "        \n",
    "        if arr[mid] == target:\n",
    "            return mid\n",
    "        elif arr[mid] < target:\n",
    "            low = mid + 1\n",
    "        else:\n",
    "            high = mid - 1\n",
    "    \n",
    "    return -1\n",
    "\n",
    "# Example usage:\n",
    "sorted_list = [1, 2, 3, 4, 5, 6, 7, 8, 9, 10]\n",
    "target_value = 7\n",
    "\n",
    "result = binary_search(sorted_list, target_value)\n",
    "\n",
    "if result != -1:\n",
    "    print(f\"Target {target_value} found at index {result}.\")\n",
    "else:\n",
    "    print(f\"Target {target_value} not found in the list.\")\n",
    "    "
   ]
  },
  {
   "cell_type": "code",
   "execution_count": null,
   "metadata": {},
   "outputs": [],
   "source": []
  },
  {
   "cell_type": "code",
   "execution_count": null,
   "metadata": {},
   "outputs": [],
   "source": []
  },
  {
   "cell_type": "code",
   "execution_count": null,
   "metadata": {},
   "outputs": [],
   "source": [
    "#PALINDROME # ABCDCBA"
   ]
  },
  {
   "cell_type": "code",
   "execution_count": 12,
   "metadata": {},
   "outputs": [],
   "source": [
    "\n",
    "def palin(str1,str2):\n",
    "    for i in x:\n",
    "        str2 = i + str2\n",
    "        if (str1 == str2):\n",
    "            print(\"Yes\")\n",
    "        else:\n",
    "            print(\"No\")"
   ]
  },
  {
   "cell_type": "code",
   "execution_count": 11,
   "metadata": {},
   "outputs": [
    {
     "name": "stdout",
     "output_type": "stream",
     "text": [
      "No\n",
      "No\n",
      "No\n",
      "No\n",
      "No\n",
      "No\n",
      "No\n"
     ]
    }
   ],
   "source": [
    "palin(\"aa\",\"aa\")"
   ]
  },
  {
   "cell_type": "code",
   "execution_count": 19,
   "metadata": {},
   "outputs": [],
   "source": [
    "\n",
    "\n",
    "def palindrom_test(str):\n",
    "    rev = reversed(str)  \n",
    "    if list(str) == list(rev):\n",
    "        print(\"PALINDROME !\")  \n",
    "    else:\n",
    "        print(\"NOT PALINDROME !\")  "
   ]
  },
  {
   "cell_type": "code",
   "execution_count": 22,
   "metadata": {},
   "outputs": [
    {
     "name": "stdout",
     "output_type": "stream",
     "text": [
      "PALINDROME !\n"
     ]
    }
   ],
   "source": [
    "palindrom_test('')"
   ]
  },
  {
   "cell_type": "code",
   "execution_count": 21,
   "metadata": {},
   "outputs": [],
   "source": [
    "tests = {\n",
    "    \"ABCDCBA\": True,\n",
    "    \"AA\": True,\n",
    "    \"A\": True,\n",
    "    \"\": True,\n",
    "    \"AB\": False,\n",
    "    \"ABCD\": False,\n",
    "    \"ABBA\": True,\n",
    "    \"abBA\": False\n",
    "}\n",
    "def check_tests(f, tests):\n",
    "    for k,v in tests.items():\n",
    "        print(\"Checking...\", k, v)\n",
    "        if f(k) == v:\n",
    "            print(\"PASSED\")\n",
    "        else:\n",
    "            print(\"FAILED\")"
   ]
  },
  {
   "cell_type": "code",
   "execution_count": null,
   "metadata": {},
   "outputs": [],
   "source": [
    "def checkpalin(txt):\n",
    "    arr =list(txt)\n",
    "    ispalin = True\n",
    "    for i in range (len(arr)/2):\n",
    "        print (arr[i]+'<----->'+)\n",
    "    "
   ]
  },
  {
   "cell_type": "code",
   "execution_count": null,
   "metadata": {},
   "outputs": [],
   "source": [
    "def find1s(arr):\n",
    "    for i in range(len(arr)):\n",
    "        if arr[i] == 1:\n",
    "            break\n",
    "    return len(arr) -1"
   ]
  },
  {
   "cell_type": "code",
   "execution_count": null,
   "metadata": {},
   "outputs": [],
   "source": [
    "assert(find1s([0,0,0,0,1,1,1])==3)"
   ]
  },
  {
   "cell_type": "code",
   "execution_count": 1,
   "metadata": {},
   "outputs": [],
   "source": [
    "def find_one(arr):\n",
    "    low =0\n",
    "    high = len(arr)\n",
    "    while low <= high:\n",
    "        mid= (low +high)//2\n",
    "        #have i found the position?\n",
    "        if arr[mid] == 1 :\n",
    "            #Found\n",
    "            if mid>0 and arr [mid -1] ==0:\n",
    "                break;\n",
    "            else:\n",
    "                high = mid-1\n",
    "        else:\n",
    "            low =mid +1\n",
    "    if low <= high:\n",
    "        return len(arr) - mid\n",
    "    else :\n",
    "        if arr[mid]==0:\n",
    "            return 0\n",
    "        else:\n",
    "            return len(arr)"
   ]
  },
  {
   "cell_type": "code",
   "execution_count": 25,
   "metadata": {},
   "outputs": [],
   "source": [
    "def compound_interest(principle, rate, years):\n",
    "    interest = 0\n",
    "    for i in range(years):\n",
    "            print (i)\n",
    "            if i < 1:\n",
    "                interest = (principle * rate * years) / 100\n",
    "                print(\"I\",interest) \n",
    "            else:\n",
    "                incprinciple = principle+interest\n",
    "                interest =(incprinciple * rate * years) / 100\n",
    "                total_acum_value = incprinciple + interest\n",
    "                comp_interest = total_acum_value - principle\n",
    "    \n",
    "    return comp_interest"
   ]
  },
  {
   "cell_type": "code",
   "execution_count": 26,
   "metadata": {},
   "outputs": [
    {
     "name": "stdout",
     "output_type": "stream",
     "text": [
      "0\n",
      "I 10.0\n",
      "1\n"
     ]
    },
    {
     "data": {
      "text/plain": [
       "21.0"
      ]
     },
     "execution_count": 26,
     "metadata": {},
     "output_type": "execute_result"
    }
   ],
   "source": [
    " compound_interest(100,5,2)"
   ]
  },
  {
   "cell_type": "code",
   "execution_count": 27,
   "metadata": {},
   "outputs": [],
   "source": [
    "def compound_interest(principle, rate, years):\n",
    "    si = 0\n",
    "    principle1 = principle\n",
    "    for i in range(years+1):\n",
    "        if(i>0):\n",
    "            principle1 = principle1 + si\n",
    "            si = (principle1 * rate * 1)/100\n",
    "    principle1 = principle1 + si\n",
    "    comp_interest = principle1 - principle\n",
    "    return(comp_interest)"
   ]
  },
  {
   "cell_type": "code",
   "execution_count": 28,
   "metadata": {},
   "outputs": [
    {
     "data": {
      "text/plain": [
       "10.25"
      ]
     },
     "execution_count": 28,
     "metadata": {},
     "output_type": "execute_result"
    }
   ],
   "source": [
    " compound_interest(100,5,2)"
   ]
  },
  {
   "cell_type": "code",
   "execution_count": 89,
   "metadata": {},
   "outputs": [],
   "source": [
    "def fact(n):\n",
    "    list1 = []\n",
    "    sum = 0\n",
    "    for i in range(1,n+1):       \n",
    "        if n % i == 0:            \n",
    "            if i % 2 != 0:\n",
    "                list1.append(i)               \n",
    "    for i in list1:\n",
    "        sum = sum + i\n",
    "    return sum\n",
    "    \n",
    "    \n",
    "    \n",
    "def special_func (num):\n",
    "    total = 0\n",
    "    if  type(num) == int :\n",
    "        if num >= 0 :\n",
    "            result = fact(num)\n",
    "            return result\n",
    "        else:\n",
    "            return -10\n",
    "    else:\n",
    "        return -10"
   ]
  },
  {
   "cell_type": "code",
   "execution_count": 88,
   "metadata": {},
   "outputs": [],
   "source": [
    "\n",
    "def fact(n):\n",
    "    list1 = []\n",
    "    sum = 0\n",
    "    for i in range(1,n+1):\n",
    "        print (\"i\",i)\n",
    "        if n % i == 0:\n",
    "            print (\"i--> factor:\",i)\n",
    "            if i % 2 != 0:\n",
    "                list1.append(i)\n",
    "                print (\"list1\",list1)\n",
    "    for i in list1:\n",
    "        sum = sum + i\n",
    "    print(\"sum:\",sum)                "
   ]
  },
  {
   "cell_type": "markdown",
   "metadata": {},
   "source": []
  },
  {
   "cell_type": "code",
   "execution_count": 90,
   "metadata": {},
   "outputs": [
    {
     "data": {
      "text/plain": [
       "4"
      ]
     },
     "execution_count": 90,
     "metadata": {},
     "output_type": "execute_result"
    }
   ],
   "source": [
    " special_func(24)"
   ]
  },
  {
   "cell_type": "code",
   "execution_count": 160,
   "metadata": {},
   "outputs": [],
   "source": [
    "def str_func (Input):\n",
    "    lenin= len(str(Input))\n",
    "    return  Input[lenin -1]\n",
    "\n",
    "def sum_str_func(inp):\n",
    "    inp = str(inp)\n",
    "    number = str_func (inp)\n",
    "    \n",
    "    output= 0\n",
    "    for i in  str(inp):\n",
    "        output = output + int(i)\n",
    "    return output\n",
    "    "
   ]
  },
  {
   "cell_type": "code",
   "execution_count": 161,
   "metadata": {},
   "outputs": [
    {
     "data": {
      "text/plain": [
       "'b'"
      ]
     },
     "execution_count": 161,
     "metadata": {},
     "output_type": "execute_result"
    }
   ],
   "source": [
    "str_func ('cloudxlab')"
   ]
  },
  {
   "cell_type": "code",
   "execution_count": 162,
   "metadata": {},
   "outputs": [
    {
     "data": {
      "text/plain": [
       "10"
      ]
     },
     "execution_count": 162,
     "metadata": {},
     "output_type": "execute_result"
    }
   ],
   "source": [
    "sum_str_func(1234)"
   ]
  },
  {
   "cell_type": "code",
   "execution_count": 172,
   "metadata": {},
   "outputs": [
    {
     "name": "stdout",
     "output_type": "stream",
     "text": [
      "loud\n",
      "\n"
     ]
    }
   ],
   "source": [
    "s = \"cloudxlab\"\n",
    "print(s[1:5])\n",
    "print(s[4:4])"
   ]
  },
  {
   "cell_type": "code",
   "execution_count": 171,
   "metadata": {},
   "outputs": [
    {
     "name": "stdout",
     "output_type": "stream",
     "text": [
      "\n"
     ]
    }
   ],
   "source": [
    "print(s[4:4])"
   ]
  },
  {
   "cell_type": "code",
   "execution_count": 173,
   "metadata": {},
   "outputs": [
    {
     "name": "stdout",
     "output_type": "stream",
     "text": [
      "b\n"
     ]
    }
   ],
   "source": [
    "print(s[-1])"
   ]
  },
  {
   "cell_type": "code",
   "execution_count": 174,
   "metadata": {},
   "outputs": [
    {
     "name": "stdout",
     "output_type": "stream",
     "text": [
      "a\n"
     ]
    }
   ],
   "source": [
    "print(s[-2])"
   ]
  },
  {
   "cell_type": "code",
   "execution_count": 177,
   "metadata": {},
   "outputs": [
    {
     "name": "stdout",
     "output_type": "stream",
     "text": [
      "cloudxl\n"
     ]
    }
   ],
   "source": [
    "print(s[:-2])"
   ]
  },
  {
   "cell_type": "code",
   "execution_count": 197,
   "metadata": {},
   "outputs": [],
   "source": [
    "\n",
    "def slicing_func (input):\n",
    "    s = input\n",
    "    print(s[2:]) "
   ]
  },
  {
   "cell_type": "code",
   "execution_count": 198,
   "metadata": {},
   "outputs": [
    {
     "name": "stdout",
     "output_type": "stream",
     "text": [
      "oudxlab\n"
     ]
    }
   ],
   "source": [
    "slicing_func(\"cloudxlab\")\n"
   ]
  },
  {
   "cell_type": "code",
   "execution_count": 213,
   "metadata": {},
   "outputs": [
    {
     "name": "stdout",
     "output_type": "stream",
     "text": [
      "l\n",
      "1\n",
      "l\n",
      "2\n",
      "l\n",
      "3\n",
      "l\n",
      "4\n",
      "l\n",
      "5\n"
     ]
    },
    {
     "data": {
      "text/plain": [
       "5"
      ]
     },
     "execution_count": 213,
     "metadata": {},
     "output_type": "execute_result"
    }
   ],
   "source": [
    "a = \"Cloudxlab is a large ed-tech platform for ml and big data\"\n",
    "count = 0\n",
    "for letter in a:\n",
    "    \n",
    "    if letter == 'l':\n",
    "        print(letter)\n",
    "        count = count + 1\n",
    "        print(count)\n",
    "count"
   ]
  },
  {
   "cell_type": "code",
   "execution_count": 207,
   "metadata": {},
   "outputs": [
    {
     "name": "stdout",
     "output_type": "stream",
     "text": [
      "True\n"
     ]
    }
   ],
   "source": [
    "result = 'cloud' in 'cloudxlab'\n",
    "print (result)"
   ]
  },
  {
   "cell_type": "code",
   "execution_count": 208,
   "metadata": {},
   "outputs": [
    {
     "name": "stdout",
     "output_type": "stream",
     "text": [
      "False\n"
     ]
    }
   ],
   "source": [
    "string = \"machine\"\n",
    "print (string == \" machine\")"
   ]
  },
  {
   "cell_type": "code",
   "execution_count": 214,
   "metadata": {},
   "outputs": [
    {
     "data": {
      "text/plain": [
       "['__add__',\n",
       " '__class__',\n",
       " '__contains__',\n",
       " '__delattr__',\n",
       " '__dir__',\n",
       " '__doc__',\n",
       " '__eq__',\n",
       " '__format__',\n",
       " '__ge__',\n",
       " '__getattribute__',\n",
       " '__getitem__',\n",
       " '__getnewargs__',\n",
       " '__gt__',\n",
       " '__hash__',\n",
       " '__init__',\n",
       " '__init_subclass__',\n",
       " '__iter__',\n",
       " '__le__',\n",
       " '__len__',\n",
       " '__lt__',\n",
       " '__mod__',\n",
       " '__mul__',\n",
       " '__ne__',\n",
       " '__new__',\n",
       " '__reduce__',\n",
       " '__reduce_ex__',\n",
       " '__repr__',\n",
       " '__rmod__',\n",
       " '__rmul__',\n",
       " '__setattr__',\n",
       " '__sizeof__',\n",
       " '__str__',\n",
       " '__subclasshook__',\n",
       " 'capitalize',\n",
       " 'casefold',\n",
       " 'center',\n",
       " 'count',\n",
       " 'encode',\n",
       " 'endswith',\n",
       " 'expandtabs',\n",
       " 'find',\n",
       " 'format',\n",
       " 'format_map',\n",
       " 'index',\n",
       " 'isalnum',\n",
       " 'isalpha',\n",
       " 'isdecimal',\n",
       " 'isdigit',\n",
       " 'isidentifier',\n",
       " 'islower',\n",
       " 'isnumeric',\n",
       " 'isprintable',\n",
       " 'isspace',\n",
       " 'istitle',\n",
       " 'isupper',\n",
       " 'join',\n",
       " 'ljust',\n",
       " 'lower',\n",
       " 'lstrip',\n",
       " 'maketrans',\n",
       " 'partition',\n",
       " 'replace',\n",
       " 'rfind',\n",
       " 'rindex',\n",
       " 'rjust',\n",
       " 'rpartition',\n",
       " 'rsplit',\n",
       " 'rstrip',\n",
       " 'split',\n",
       " 'splitlines',\n",
       " 'startswith',\n",
       " 'strip',\n",
       " 'swapcase',\n",
       " 'title',\n",
       " 'translate',\n",
       " 'upper',\n",
       " 'zfill']"
      ]
     },
     "execution_count": 214,
     "metadata": {},
     "output_type": "execute_result"
    }
   ],
   "source": [
    "a = \"cloudxlab\"\n",
    "dir(a)"
   ]
  },
  {
   "cell_type": "code",
   "execution_count": 215,
   "metadata": {},
   "outputs": [
    {
     "name": "stdout",
     "output_type": "stream",
     "text": [
      "Help on built-in function translate:\n",
      "\n",
      "translate(...) method of builtins.str instance\n",
      "    S.translate(table) -> str\n",
      "    \n",
      "    Return a copy of the string S in which each character has been mapped\n",
      "    through the given translation table. The table must implement\n",
      "    lookup/indexing via __getitem__, for instance a dictionary or list,\n",
      "    mapping Unicode ordinals to Unicode ordinals, strings, or None. If\n",
      "    this operation raises LookupError, the character is left untouched.\n",
      "    Characters mapped to None are deleted.\n",
      "\n"
     ]
    }
   ],
   "source": [
    "help(a.translate)"
   ]
  },
  {
   "cell_type": "code",
   "execution_count": 216,
   "metadata": {},
   "outputs": [
    {
     "name": "stdout",
     "output_type": "stream",
     "text": [
      "Help on method_descriptor:\n",
      "\n",
      "translate(...)\n",
      "    S.translate(table) -> str\n",
      "    \n",
      "    Return a copy of the string S in which each character has been mapped\n",
      "    through the given translation table. The table must implement\n",
      "    lookup/indexing via __getitem__, for instance a dictionary or list,\n",
      "    mapping Unicode ordinals to Unicode ordinals, strings, or None. If\n",
      "    this operation raises LookupError, the character is left untouched.\n",
      "    Characters mapped to None are deleted.\n",
      "\n"
     ]
    }
   ],
   "source": [
    "help(str.translate)"
   ]
  },
  {
   "cell_type": "code",
   "execution_count": 217,
   "metadata": {},
   "outputs": [
    {
     "name": "stdout",
     "output_type": "stream",
     "text": [
      "CLOUDXLAB\n"
     ]
    }
   ],
   "source": [
    "print(a.upper())"
   ]
  },
  {
   "cell_type": "code",
   "execution_count": 218,
   "metadata": {},
   "outputs": [
    {
     "name": "stdout",
     "output_type": "stream",
     "text": [
      "cloudxlab\n"
     ]
    }
   ],
   "source": [
    "print(a)"
   ]
  },
  {
   "cell_type": "code",
   "execution_count": 219,
   "metadata": {},
   "outputs": [],
   "source": [
    "data1 = \"someone@gmail.com\""
   ]
  },
  {
   "cell_type": "code",
   "execution_count": 223,
   "metadata": {},
   "outputs": [
    {
     "data": {
      "text/plain": [
       "7"
      ]
     },
     "execution_count": 223,
     "metadata": {},
     "output_type": "execute_result"
    }
   ],
   "source": [
    "position = data1.find('@gmail')\n",
    "position"
   ]
  },
  {
   "cell_type": "code",
   "execution_count": 226,
   "metadata": {},
   "outputs": [
    {
     "data": {
      "text/plain": [
       "-1"
      ]
     },
     "execution_count": 226,
     "metadata": {},
     "output_type": "execute_result"
    }
   ],
   "source": [
    "position = data1.find('@gmail', 4, 6)\n",
    "position"
   ]
  },
  {
   "cell_type": "code",
   "execution_count": 227,
   "metadata": {},
   "outputs": [],
   "source": [
    "a = [12, 3.4, 34, 'cloudxlab', [2.3, 1.4]]"
   ]
  },
  {
   "cell_type": "code",
   "execution_count": null,
   "metadata": {},
   "outputs": [],
   "source": []
  },
  {
   "cell_type": "code",
   "execution_count": 228,
   "metadata": {},
   "outputs": [
    {
     "name": "stdout",
     "output_type": "stream",
     "text": [
      "12\n",
      "3.4\n",
      "34\n",
      "cloudxlab\n",
      "[2.3, 1.4]\n"
     ]
    }
   ],
   "source": [
    "for i in a:\n",
    "    print (i)"
   ]
  },
  {
   "cell_type": "code",
   "execution_count": 229,
   "metadata": {},
   "outputs": [
    {
     "data": {
      "text/plain": [
       "3.4"
      ]
     },
     "execution_count": 229,
     "metadata": {},
     "output_type": "execute_result"
    }
   ],
   "source": [
    "a[1]"
   ]
  },
  {
   "cell_type": "code",
   "execution_count": 230,
   "metadata": {},
   "outputs": [
    {
     "name": "stdout",
     "output_type": "stream",
     "text": [
      "False\n"
     ]
    }
   ],
   "source": [
    "print (3 in a)"
   ]
  },
  {
   "cell_type": "code",
   "execution_count": 231,
   "metadata": {},
   "outputs": [
    {
     "name": "stdout",
     "output_type": "stream",
     "text": [
      "False\n"
     ]
    }
   ],
   "source": [
    "print('cloudx lab' in a)"
   ]
  },
  {
   "cell_type": "code",
   "execution_count": 232,
   "metadata": {},
   "outputs": [
    {
     "name": "stdout",
     "output_type": "stream",
     "text": [
      "1\n",
      "2\n",
      "3\n",
      "4\n",
      "5\n"
     ]
    }
   ],
   "source": [
    "a = [1,2,3,4,5]\n",
    "for number in a:\n",
    "   print(number)"
   ]
  },
  {
   "cell_type": "code",
   "execution_count": 240,
   "metadata": {},
   "outputs": [
    {
     "name": "stdout",
     "output_type": "stream",
     "text": [
      "10\n",
      "6\n",
      "7\n",
      "7\n",
      "8\n",
      "8\n",
      "9\n",
      "9\n",
      "10\n",
      "10\n",
      "11\n",
      "[7, 8, 9, 10, 11]\n"
     ]
    }
   ],
   "source": [
    "print( a[number])\n",
    "for number in range(len(a)):\n",
    "    print( a[number])\n",
    "    a[number] = a[number] + 1 \n",
    "    print( a[number])\n",
    "print (a)"
   ]
  },
  {
   "cell_type": "code",
   "execution_count": 263,
   "metadata": {},
   "outputs": [
    {
     "name": "stdout",
     "output_type": "stream",
     "text": [
      "[1, 2, 3, 1, 2, 3, 1, 2, 3]\n",
      "i is 1\n",
      "1\n",
      "i is 2\n",
      "3\n",
      "i is 3\n",
      "6\n",
      "i is 1\n",
      "7\n",
      "i is 2\n",
      "9\n",
      "i is 3\n",
      "12\n",
      "i is 1\n",
      "13\n",
      "i is 2\n",
      "15\n",
      "i is 3\n",
      "18\n"
     ]
    }
   ],
   "source": [
    "a = [1,2,3]    \n",
    "c = a * 3\n",
    "print(c)\n",
    "sum = 0\n",
    "for i in range(len(c)):\n",
    "    print (\"i is\",c[i])\n",
    "    sum = sum + c[i] \n",
    "    print(sum)"
   ]
  },
  {
   "cell_type": "code",
   "execution_count": 271,
   "metadata": {},
   "outputs": [
    {
     "name": "stdout",
     "output_type": "stream",
     "text": [
      "i is 3\n",
      "3\n",
      "i is 4\n",
      "7\n",
      "i is 5\n",
      "12\n"
     ]
    }
   ],
   "source": [
    "a = [1,2,3,4,5,6,7,8,9]\n",
    "s = (a[2:5])\n",
    "sum =0\n",
    "for i in range(len(s)):\n",
    "    print (\"i is\",s[i])\n",
    "    sum = sum + s[i] \n",
    "    print(sum)\n"
   ]
  },
  {
   "cell_type": "code",
   "execution_count": 274,
   "metadata": {},
   "outputs": [
    {
     "name": "stdout",
     "output_type": "stream",
     "text": [
      "[1, 2, 7, 4, 9, 6, 7, 8, 9]\n",
      "i is 1\n",
      "1\n",
      "i is 2\n",
      "3\n",
      "i is 7\n",
      "10\n",
      "i is 4\n",
      "14\n",
      "i is 9\n",
      "23\n",
      "i is 6\n",
      "29\n",
      "i is 7\n",
      "36\n",
      "i is 8\n",
      "44\n",
      "i is 9\n",
      "53\n"
     ]
    }
   ],
   "source": [
    "a = [1,2,3,4,5,6,7,8,9]\n",
    "a[2:5] = [7,4,9]\n",
    "k=a\n",
    "print(k)\n",
    "sum = 0\n",
    "for i in range(len(k)):\n",
    "    print (\"i is\",k[i])\n",
    "    sum = sum + k[i] \n",
    "    print(sum)"
   ]
  },
  {
   "cell_type": "code",
   "execution_count": 249,
   "metadata": {},
   "outputs": [
    {
     "name": "stdout",
     "output_type": "stream",
     "text": [
      "[7, 4, 9]\n"
     ]
    }
   ],
   "source": [
    "print(a[2:5])"
   ]
  },
  {
   "cell_type": "code",
   "execution_count": 285,
   "metadata": {},
   "outputs": [
    {
     "name": "stdout",
     "output_type": "stream",
     "text": [
      "[23, 12, 32, 1, 2, 34, 56, 12]\n",
      "56\n"
     ]
    }
   ],
   "source": [
    "a = [23,12,32,1,2,34,56]\n",
    "a.append(12)\n",
    "print(a)\n",
    "print(a[len(a)-2])"
   ]
  },
  {
   "cell_type": "code",
   "execution_count": 286,
   "metadata": {},
   "outputs": [
    {
     "name": "stdout",
     "output_type": "stream",
     "text": [
      "344\n"
     ]
    }
   ],
   "source": [
    "a.extend(a)\n",
    "sum =0\n",
    "for i in range(len(a)):\n",
    "    sum = sum + a[i]\n",
    "print(sum)"
   ]
  },
  {
   "cell_type": "code",
   "execution_count": 278,
   "metadata": {},
   "outputs": [
    {
     "name": "stdout",
     "output_type": "stream",
     "text": [
      "[23, 12, 32, 1, 2, 34, 56, 12, 23, 12, 32, 1, 2, 34, 56, 12]\n"
     ]
    }
   ],
   "source": [
    "print(a)"
   ]
  },
  {
   "cell_type": "code",
   "execution_count": 280,
   "metadata": {},
   "outputs": [
    {
     "name": "stdout",
     "output_type": "stream",
     "text": [
      "[1, 1, 2, 2, 12, 12, 12, 12, 23, 23, 32, 32, 34, 34, 56, 56]\n",
      "14\n"
     ]
    }
   ],
   "source": [
    "a.sort()\n",
    "print(a)\n",
    "print(a[2] + a[7])"
   ]
  },
  {
   "cell_type": "code",
   "execution_count": 2,
   "metadata": {},
   "outputs": [
    {
     "name": "stdout",
     "output_type": "stream",
     "text": [
      "Matrix = [[1, 2, 3, 4], [5, 6, 7, 8], [9, 10, 11, 12]]\n"
     ]
    }
   ],
   "source": [
    "\n",
    "matrix = [[1, 2, 3, 4], \n",
    "    [5, 6, 7, 8],\n",
    "    [9, 10, 11, 12]]\n",
    " \n",
    "print(\"Matrix =\", matrix)"
   ]
  },
  {
   "cell_type": "code",
   "execution_count": 7,
   "metadata": {},
   "outputs": [],
   "source": [
    "amatrix = [[1, 2, 3, 4], \n",
    "    [5, 6, 7, 8]]"
   ]
  },
  {
   "cell_type": "code",
   "execution_count": 8,
   "metadata": {},
   "outputs": [
    {
     "name": "stdout",
     "output_type": "stream",
     "text": [
      "Matrix = [[1, 2, 3, 4], [5, 6, 7, 8]]\n"
     ]
    }
   ],
   "source": [
    "print(\"Matrix =\", amatrix)\n"
   ]
  },
  {
   "cell_type": "code",
   "execution_count": 10,
   "metadata": {},
   "outputs": [
    {
     "name": "stdout",
     "output_type": "stream",
     "text": [
      "[1, 2, 3, 4]\n",
      "[5, 6, 7, 8]\n"
     ]
    }
   ],
   "source": [
    "for i in range(len(amatrix)):\n",
    "    print (amatrix[i])"
   ]
  },
  {
   "cell_type": "code",
   "execution_count": 14,
   "metadata": {},
   "outputs": [
    {
     "ename": "NameError",
     "evalue": "name 'k' is not defined",
     "output_type": "error",
     "traceback": [
      "\u001b[0;31m---------------------------------------------------------------------------\u001b[0m",
      "\u001b[0;31mNameError\u001b[0m                                 Traceback (most recent call last)",
      "\u001b[0;32m<ipython-input-14-69ae4ae14f07>\u001b[0m in \u001b[0;36m<module>\u001b[0;34m\u001b[0m\n\u001b[1;32m      1\u001b[0m \u001b[0;32mfor\u001b[0m \u001b[0mi\u001b[0m \u001b[0;32min\u001b[0m \u001b[0mrange\u001b[0m\u001b[0;34m(\u001b[0m\u001b[0mlen\u001b[0m\u001b[0;34m(\u001b[0m\u001b[0mamatrix\u001b[0m\u001b[0;34m)\u001b[0m\u001b[0;34m)\u001b[0m\u001b[0;34m:\u001b[0m\u001b[0;34m\u001b[0m\u001b[0;34m\u001b[0m\u001b[0m\n\u001b[1;32m      2\u001b[0m     \u001b[0;31m#print (amatrix[i])\u001b[0m\u001b[0;34m\u001b[0m\u001b[0;34m\u001b[0m\u001b[0;34m\u001b[0m\u001b[0m\n\u001b[0;32m----> 3\u001b[0;31m     \u001b[0mk\u001b[0m\u001b[0;34m[\u001b[0m\u001b[0mi\u001b[0m\u001b[0;34m]\u001b[0m\u001b[0;34m[\u001b[0m\u001b[0mj\u001b[0m\u001b[0;34m]\u001b[0m \u001b[0;34m=\u001b[0m \u001b[0;36m0\u001b[0m\u001b[0;34m\u001b[0m\u001b[0;34m\u001b[0m\u001b[0m\n\u001b[0m\u001b[1;32m      4\u001b[0m     \u001b[0;32mfor\u001b[0m \u001b[0mj\u001b[0m \u001b[0;32min\u001b[0m \u001b[0mrange\u001b[0m\u001b[0;34m(\u001b[0m\u001b[0mlen\u001b[0m\u001b[0;34m(\u001b[0m\u001b[0mamatrix\u001b[0m\u001b[0;34m[\u001b[0m\u001b[0mi\u001b[0m\u001b[0;34m]\u001b[0m\u001b[0;34m)\u001b[0m\u001b[0;34m)\u001b[0m\u001b[0;34m:\u001b[0m\u001b[0;34m\u001b[0m\u001b[0;34m\u001b[0m\u001b[0m\n\u001b[1;32m      5\u001b[0m         \u001b[0mprint\u001b[0m \u001b[0;34m(\u001b[0m\u001b[0mamatrix\u001b[0m\u001b[0;34m[\u001b[0m\u001b[0mi\u001b[0m\u001b[0;34m]\u001b[0m\u001b[0;34m[\u001b[0m\u001b[0mj\u001b[0m\u001b[0;34m]\u001b[0m\u001b[0;34m)\u001b[0m\u001b[0;34m\u001b[0m\u001b[0;34m\u001b[0m\u001b[0m\n",
      "\u001b[0;31mNameError\u001b[0m: name 'k' is not defined"
     ]
    }
   ],
   "source": [
    "for i in range(len(amatrix)):\n",
    "    #print (amatrix[i])\n",
    "    k[0][j] = 0\n",
    "    for j in range(len(amatrix[i])):\n",
    "        print (amatrix[i][j])\n",
    "        k[i][j] = k[i][j] + amatrix[i][j]"
   ]
  },
  {
   "cell_type": "code",
   "execution_count": 28,
   "metadata": {},
   "outputs": [],
   "source": [
    "a=[1,3,2,1]\n",
    "b=[1,3,4,2,3,4]\n",
    "#c = a + b"
   ]
  },
  {
   "cell_type": "code",
   "execution_count": 29,
   "metadata": {},
   "outputs": [
    {
     "name": "stdout",
     "output_type": "stream",
     "text": [
      "[1, 2, 3, 3, 4, 4]\n"
     ]
    }
   ],
   "source": [
    "print(c)"
   ]
  },
  {
   "cell_type": "code",
   "execution_count": 32,
   "metadata": {},
   "outputs": [],
   "source": [
    "def merge(a,b):\n",
    "    c = a + b\n",
    "    c.sort()\n",
    "    return c\n",
    "# memory : order of n\n",
    "# Time Complexity : order n log(n)"
   ]
  },
  {
   "cell_type": "code",
   "execution_count": 33,
   "metadata": {},
   "outputs": [
    {
     "data": {
      "text/plain": [
       "[1, 1, 1, 2, 2, 3, 3, 3, 4, 4]"
      ]
     },
     "execution_count": 33,
     "metadata": {},
     "output_type": "execute_result"
    }
   ],
   "source": [
    "merge(a,b)"
   ]
  },
  {
   "cell_type": "code",
   "execution_count": 38,
   "metadata": {},
   "outputs": [],
   "source": [
    "def deduplicate1(names):\n",
    "    resultl = []\n",
    "    for e in names:\n",
    "        resultl.append(e)\n",
    "    return resultl\n"
   ]
  },
  {
   "cell_type": "code",
   "execution_count": 39,
   "metadata": {},
   "outputs": [
    {
     "data": {
      "text/plain": [
       "['abc', 'xyz', 'abc']"
      ]
     },
     "execution_count": 39,
     "metadata": {},
     "output_type": "execute_result"
    }
   ],
   "source": [
    "deduplicate1([\"abc\",\"xyz\",\"abc\"])"
   ]
  },
  {
   "cell_type": "code",
   "execution_count": 41,
   "metadata": {},
   "outputs": [
    {
     "data": {
      "text/plain": [
       "['sandeep', 'mohit']"
      ]
     },
     "execution_count": 41,
     "metadata": {},
     "output_type": "execute_result"
    }
   ],
   "source": [
    " names =[\"sandeep\",\"mohit\",\"sandeep\"]\n",
    "def deduplicate2(names):\n",
    "    d = {}\n",
    "    for e in names:\n",
    "        if e not in d:\n",
    "            d[e] =True #added to the element\n",
    "    return list(d.keys())\n",
    "deduplicate2(names)"
   ]
  },
  {
   "cell_type": "code",
   "execution_count": 1,
   "metadata": {},
   "outputs": [
    {
     "name": "stdout",
     "output_type": "stream",
     "text": [
      "['sandeep']\n"
     ]
    }
   ],
   "source": [
    "names =[\"sandeep\",\"mohit\",\"sandeep\"]\n",
    "def deduplicate3(names):\n",
    "    if len(names) < 2:\n",
    "        return names\n",
    "    names.sort()\n",
    "    result = []\n",
    "    prev = names[0]\n",
    "    for name in names[1:]: #o(n)\n",
    "        if name != prev:\n",
    "            prev = name\n",
    "            result.append(name)\n",
    "    return result\n",
    "\n",
    "print(deduplicate3(names))"
   ]
  },
  {
   "cell_type": "code",
   "execution_count": 4,
   "metadata": {},
   "outputs": [
    {
     "data": {
      "text/plain": [
       "['__add__',\n",
       " '__class__',\n",
       " '__contains__',\n",
       " '__delattr__',\n",
       " '__delitem__',\n",
       " '__dir__',\n",
       " '__doc__',\n",
       " '__eq__',\n",
       " '__format__',\n",
       " '__ge__',\n",
       " '__getattribute__',\n",
       " '__getitem__',\n",
       " '__gt__',\n",
       " '__hash__',\n",
       " '__iadd__',\n",
       " '__imul__',\n",
       " '__init__',\n",
       " '__init_subclass__',\n",
       " '__iter__',\n",
       " '__le__',\n",
       " '__len__',\n",
       " '__lt__',\n",
       " '__mul__',\n",
       " '__ne__',\n",
       " '__new__',\n",
       " '__reduce__',\n",
       " '__reduce_ex__',\n",
       " '__repr__',\n",
       " '__reversed__',\n",
       " '__rmul__',\n",
       " '__setattr__',\n",
       " '__setitem__',\n",
       " '__sizeof__',\n",
       " '__str__',\n",
       " '__subclasshook__',\n",
       " 'append',\n",
       " 'clear',\n",
       " 'copy',\n",
       " 'count',\n",
       " 'extend',\n",
       " 'index',\n",
       " 'insert',\n",
       " 'pop',\n",
       " 'remove',\n",
       " 'reverse',\n",
       " 'sort']"
      ]
     },
     "execution_count": 4,
     "metadata": {},
     "output_type": "execute_result"
    }
   ],
   "source": [
    "dir(names)"
   ]
  },
  {
   "cell_type": "code",
   "execution_count": 5,
   "metadata": {},
   "outputs": [],
   "source": [
    "d = {'a':10,'b':1}"
   ]
  },
  {
   "cell_type": "code",
   "execution_count": 7,
   "metadata": {},
   "outputs": [
    {
     "data": {
      "text/plain": [
       "dict_items([('a', 10), ('b', 1)])"
      ]
     },
     "execution_count": 7,
     "metadata": {},
     "output_type": "execute_result"
    }
   ],
   "source": [
    "d.items() # it terurns tuple "
   ]
  },
  {
   "cell_type": "code",
   "execution_count": 9,
   "metadata": {},
   "outputs": [
    {
     "data": {
      "text/plain": [
       "[(1, 2)]"
      ]
     },
     "execution_count": 9,
     "metadata": {},
     "output_type": "execute_result"
    }
   ],
   "source": [
    "a =[]\n",
    "a.append((1,2))\n",
    "a"
   ]
  },
  {
   "cell_type": "code",
   "execution_count": 2,
   "metadata": {},
   "outputs": [],
   "source": [
    "list1 =[12,23,43,[2,4,5],2,4,5]"
   ]
  },
  {
   "cell_type": "code",
   "execution_count": 3,
   "metadata": {},
   "outputs": [
    {
     "data": {
      "text/plain": [
       "[2, 4, 5]"
      ]
     },
     "execution_count": 3,
     "metadata": {},
     "output_type": "execute_result"
    }
   ],
   "source": [
    "list1.pop(3)"
   ]
  },
  {
   "cell_type": "markdown",
   "metadata": {},
   "source": [
    "\n",
    "\n"
   ]
  },
  {
   "cell_type": "markdown",
   "metadata": {},
   "source": []
  },
  {
   "cell_type": "code",
   "execution_count": 8,
   "metadata": {},
   "outputs": [
    {
     "name": "stdout",
     "output_type": "stream",
     "text": [
      "89\n"
     ]
    }
   ],
   "source": [
    "list1\n",
    "sum = 0\n",
    "for i in range(len(list1)):\n",
    "    sum = sum + list1[i]\n",
    "print (sum)\n",
    "    "
   ]
  },
  {
   "cell_type": "code",
   "execution_count": 13,
   "metadata": {},
   "outputs": [],
   "source": [
    "list2 = ['cloudx', 'lab', 'provides', 'cloud', 'lab']"
   ]
  },
  {
   "cell_type": "code",
   "execution_count": 14,
   "metadata": {},
   "outputs": [],
   "source": [
    "del list2[1]"
   ]
  },
  {
   "cell_type": "code",
   "execution_count": 15,
   "metadata": {},
   "outputs": [
    {
     "name": "stdout",
     "output_type": "stream",
     "text": [
      "['cloudx', 'provides', 'cloud', 'lab']\n"
     ]
    }
   ],
   "source": [
    "print(list2)"
   ]
  },
  {
   "cell_type": "code",
   "execution_count": 16,
   "metadata": {},
   "outputs": [],
   "source": [
    "list2.remove('lab')"
   ]
  },
  {
   "cell_type": "code",
   "execution_count": 17,
   "metadata": {},
   "outputs": [
    {
     "data": {
      "text/plain": [
       "['cloudx', 'provides', 'cloud']"
      ]
     },
     "execution_count": 17,
     "metadata": {},
     "output_type": "execute_result"
    }
   ],
   "source": [
    "list2"
   ]
  },
  {
   "cell_type": "code",
   "execution_count": 10,
   "metadata": {},
   "outputs": [],
   "source": [
    "list2 = ['cloudx', 'lab', 'provides', 'cloud', 'lab']"
   ]
  },
  {
   "cell_type": "code",
   "execution_count": 11,
   "metadata": {},
   "outputs": [],
   "source": [
    "del list2[:]"
   ]
  },
  {
   "cell_type": "code",
   "execution_count": 13,
   "metadata": {},
   "outputs": [
    {
     "data": {
      "text/plain": [
       "0"
      ]
     },
     "execution_count": 13,
     "metadata": {},
     "output_type": "execute_result"
    }
   ],
   "source": [
    "len(list2)"
   ]
  },
  {
   "cell_type": "code",
   "execution_count": 14,
   "metadata": {},
   "outputs": [
    {
     "name": "stdout",
     "output_type": "stream",
     "text": [
      "['C', 'l', 'o', 'u', 'd', 'x', 'L', 'a', 'b']\n"
     ]
    }
   ],
   "source": [
    "s = \"CloudxLab\"\n",
    "l = list(s)\n",
    "print (l)"
   ]
  },
  {
   "cell_type": "code",
   "execution_count": 17,
   "metadata": {},
   "outputs": [
    {
     "name": "stdout",
     "output_type": "stream",
     "text": [
      "['I', 'am', 'learning', 'Python', 'at', 'CloudxLab']\n"
     ]
    }
   ],
   "source": [
    "s = \"I am learning Python at CloudxLab\"\n",
    "sp = s.split()\n",
    "print(sp)"
   ]
  },
  {
   "cell_type": "code",
   "execution_count": 1,
   "metadata": {},
   "outputs": [
    {
     "name": "stdout",
     "output_type": "stream",
     "text": [
      "['I ', ' learning Python at CloudxLab']\n"
     ]
    }
   ],
   "source": [
    "s = \"I am learning Python at CloudxLab\"\n",
    "sp = s.split(\"am\")\n",
    "print(sp)"
   ]
  },
  {
   "cell_type": "code",
   "execution_count": 2,
   "metadata": {},
   "outputs": [
    {
     "name": "stdout",
     "output_type": "stream",
     "text": [
      "I am learning Python at CloudxLab\n"
     ]
    }
   ],
   "source": [
    "delimiter = \"am\"    \n",
    "print(delimiter.join(sp))"
   ]
  },
  {
   "cell_type": "code",
   "execution_count": 24,
   "metadata": {},
   "outputs": [
    {
     "data": {
      "text/plain": [
       "['a', 'b', 'c']"
      ]
     },
     "execution_count": 24,
     "metadata": {},
     "output_type": "execute_result"
    }
   ],
   "source": [
    "str1 = \",\"\n",
    "str2 = \"abc\"\n",
    "len(str2) \n",
    "list22 = list(str2)\n",
    "list22"
   ]
  },
  {
   "cell_type": "code",
   "execution_count": 22,
   "metadata": {},
   "outputs": [
    {
     "data": {
      "text/plain": [
       "'a,b,c'"
      ]
     },
     "execution_count": 22,
     "metadata": {},
     "output_type": "execute_result"
    }
   ],
   "source": [
    "str1.join(str2)"
   ]
  },
  {
   "cell_type": "code",
   "execution_count": 122,
   "metadata": {},
   "outputs": [],
   "source": [
    "def str_list_func (str1):\n",
    "    splitchar =' '\n",
    "    list1 = str1.split(' ')\n",
    "    end_list = []\n",
    "    for i in range(len(list1)):\n",
    "        x = len(list1[i])\n",
    "        if x > 1:\n",
    "            print(list1[i])\n",
    "            list_word = list(list1[i])\n",
    "        # print(list_word)\n",
    "            \n",
    "            swap_1stlist = list_word[0]\n",
    "            swap_1stlist\n",
    "            swap_lastlist = list_word[x-1]\n",
    "            swap_lastlist\n",
    "            list_word[0] = swap_lastlist\n",
    "            list_word[x-1] =swap_1stlist\n",
    "           # print(\"after swap list is \",list_word)\n",
    "            delimiter = ''\n",
    "            return_str = delimiter.join(list_word) \n",
    "           # print(return_str)\n",
    "            end_list.append(return_str)\n",
    "        else:\n",
    "            return_str = list1[i]\n",
    "            end_list.append(return_str)\n",
    "    print (end_list)\n",
    "    final_result = splitchar.join(end_list)\n",
    "    return final_result"
   ]
  },
  {
   "cell_type": "code",
   "execution_count": 124,
   "metadata": {},
   "outputs": [
    {
     "name": "stdout",
     "output_type": "stream",
     "text": [
      "am\n",
      "learning\n",
      "Python\n",
      "at\n",
      "CloudxLab\n",
      "['I', 'ma', 'gearninl', 'nythoP', 'ta', 'bloudxLaC']\n"
     ]
    },
    {
     "data": {
      "text/plain": [
       "'I ma gearninl nythoP ta bloudxLaC'"
      ]
     },
     "execution_count": 124,
     "metadata": {},
     "output_type": "execute_result"
    }
   ],
   "source": [
    "str_list_func ('I am learning Python at CloudxLab')"
   ]
  },
  {
   "cell_type": "code",
   "execution_count": 54,
   "metadata": {},
   "outputs": [
    {
     "data": {
      "text/plain": [
       "['a', 'b', 'c']"
      ]
     },
     "execution_count": 54,
     "metadata": {},
     "output_type": "execute_result"
    }
   ],
   "source": [
    "list100 = ['a','b','c']\n",
    "list100"
   ]
  },
  {
   "cell_type": "code",
   "execution_count": 78,
   "metadata": {},
   "outputs": [
    {
     "data": {
      "text/plain": [
       "'cba'"
      ]
     },
     "execution_count": 78,
     "metadata": {},
     "output_type": "execute_result"
    }
   ],
   "source": [
    "swap_1stlist = list100[0]\n",
    "swap_1stlist\n",
    "swap_lastlist = list100[3-1]\n",
    "swap_lastlist\n",
    "list100[0] = swap_lastlist\n",
    "list100[3-1] =swap_1stlist\n",
    "list100\n",
    "delimiter = ''\n",
    "delimiter.join(list100)"
   ]
  },
  {
   "cell_type": "code",
   "execution_count": 90,
   "metadata": {},
   "outputs": [
    {
     "name": "stdout",
     "output_type": "stream",
     "text": [
      "['cba']\n"
     ]
    }
   ],
   "source": [
    "end_list =[]\n",
    "return_str = delimiter.join(list100) \n",
    "#print(return_str)\n",
    "end_list.append(return_str) \n",
    "print (end_list)"
   ]
  },
  {
   "cell_type": "code",
   "execution_count": 89,
   "metadata": {},
   "outputs": [
    {
     "data": {
      "text/plain": [
       "['abc', 'aaa']"
      ]
     },
     "execution_count": 89,
     "metadata": {},
     "output_type": "execute_result"
    }
   ],
   "source": [
    "end_list =[]\n",
    "end_list.append(\"abc\")\n",
    "end_list.append(\"aaa\")\n",
    "end_list"
   ]
  },
  {
   "cell_type": "code",
   "execution_count": 1,
   "metadata": {},
   "outputs": [
    {
     "ename": "FileNotFoundError",
     "evalue": "[Errno 2] No such file or directory: 'file_name.txt'",
     "output_type": "error",
     "traceback": [
      "\u001b[0;31m---------------------------------------------------------------------------\u001b[0m",
      "\u001b[0;31mFileNotFoundError\u001b[0m                         Traceback (most recent call last)",
      "\u001b[0;32m<ipython-input-1-8f46374104a9>\u001b[0m in \u001b[0;36m<module>\u001b[0;34m\u001b[0m\n\u001b[0;32m----> 1\u001b[0;31m \u001b[0mf\u001b[0m \u001b[0;34m=\u001b[0m \u001b[0mopen\u001b[0m\u001b[0;34m(\u001b[0m\u001b[0;34m\"file_name.txt\"\u001b[0m\u001b[0;34m)\u001b[0m\u001b[0;34m\u001b[0m\u001b[0;34m\u001b[0m\u001b[0m\n\u001b[0m",
      "\u001b[0;31mFileNotFoundError\u001b[0m: [Errno 2] No such file or directory: 'file_name.txt'"
     ]
    }
   ],
   "source": [
    "f = open(\"file_name.txt\")"
   ]
  },
  {
   "cell_type": "code",
   "execution_count": 2,
   "metadata": {},
   "outputs": [
    {
     "name": "stdout",
     "output_type": "stream",
     "text": [
      "cloud\n",
      "x\n",
      "lab\n"
     ]
    }
   ],
   "source": [
    "print(\"cloud\\nx\\nlab\")"
   ]
  },
  {
   "cell_type": "code",
   "execution_count": 1,
   "metadata": {},
   "outputs": [
    {
     "ename": "FileNotFoundError",
     "evalue": "[Errno 2] No such file or directory: 'myfirstfile_copy.txt'",
     "output_type": "error",
     "traceback": [
      "\u001b[0;31m---------------------------------------------------------------------------\u001b[0m",
      "\u001b[0;31mFileNotFoundError\u001b[0m                         Traceback (most recent call last)",
      "\u001b[0;32m<ipython-input-1-643a0ea4803a>\u001b[0m in \u001b[0;36m<module>\u001b[0;34m\u001b[0m\n\u001b[0;32m----> 1\u001b[0;31m \u001b[0mf\u001b[0m \u001b[0;34m=\u001b[0m \u001b[0mopen\u001b[0m\u001b[0;34m(\u001b[0m\u001b[0;34m\"myfirstfile_copy.txt\"\u001b[0m\u001b[0;34m)\u001b[0m\u001b[0;34m\u001b[0m\u001b[0;34m\u001b[0m\u001b[0m\n\u001b[0m",
      "\u001b[0;31mFileNotFoundError\u001b[0m: [Errno 2] No such file or directory: 'myfirstfile_copy.txt'"
     ]
    }
   ],
   "source": [
    "f = open(\"myfirstfile_copy.txt\")"
   ]
  },
  {
   "cell_type": "code",
   "execution_count": 38,
   "metadata": {},
   "outputs": [
    {
     "ename": "FileNotFoundError",
     "evalue": "[Errno 2] No such file or directory: '/cxldata/python_sample_file1'",
     "output_type": "error",
     "traceback": [
      "\u001b[0;31m---------------------------------------------------------------------------\u001b[0m",
      "\u001b[0;31mFileNotFoundError\u001b[0m                         Traceback (most recent call last)",
      "\u001b[0;32m<ipython-input-38-704c42e6c143>\u001b[0m in \u001b[0;36m<module>\u001b[0;34m\u001b[0m\n\u001b[0;32m----> 1\u001b[0;31m \u001b[0mf\u001b[0m \u001b[0;34m=\u001b[0m \u001b[0mopen\u001b[0m\u001b[0;34m(\u001b[0m\u001b[0;34m\"/cxldata/python_sample_file1\"\u001b[0m\u001b[0;34m)\u001b[0m\u001b[0;34m\u001b[0m\u001b[0;34m\u001b[0m\u001b[0m\n\u001b[0m\u001b[1;32m      2\u001b[0m \u001b[0mstring_words\u001b[0m \u001b[0;34m=\u001b[0m\u001b[0mf\u001b[0m\u001b[0;34m.\u001b[0m\u001b[0mread\u001b[0m\u001b[0;34m(\u001b[0m\u001b[0;34m)\u001b[0m\u001b[0;34m\u001b[0m\u001b[0;34m\u001b[0m\u001b[0m\n\u001b[1;32m      3\u001b[0m \u001b[0mstring_words\u001b[0m\u001b[0;34m\u001b[0m\u001b[0;34m\u001b[0m\u001b[0m\n",
      "\u001b[0;31mFileNotFoundError\u001b[0m: [Errno 2] No such file or directory: '/cxldata/python_sample_file1'"
     ]
    }
   ],
   "source": [
    "f = open(\"/cxldata/python_sample_file1\")\n",
    "string_words =f.read()\n",
    "string_words"
   ]
  },
  {
   "cell_type": "code",
   "execution_count": 39,
   "metadata": {},
   "outputs": [
    {
     "name": "stdout",
     "output_type": "stream",
     "text": [
      "This is a sample file for testing\n",
      "for Python course for\n",
      "learners in CloudxLab.\n",
      "\n"
     ]
    }
   ],
   "source": [
    "with open(\"/cxldata/python_sample_file\") as f:\n",
    "    #print(\"read complete\")\n",
    "    s = \"\"\n",
    "    for line in f:\n",
    "       # print(line)\n",
    "        s = s + line\n",
    "    print(s)"
   ]
  },
  {
   "cell_type": "code",
   "execution_count": 10,
   "metadata": {},
   "outputs": [],
   "source": [
    "def file_read_func (path ):\n",
    "    try:\n",
    "        \n",
    "        sp =\" \"\n",
    "        ls=[]\n",
    "        total =0\n",
    "        with open(path) as f:\n",
    "            content = f.read()\n",
    "            print(content)\n",
    "            content.replace(\"\\n \", \"\")\n",
    "            ''.join(content.splitlines())\n",
    "            \n",
    " \n",
    "           \n",
    "            for line in content:\n",
    "                lineofword = line.split(sp)\n",
    "                #print(lineofword)\n",
    "               # print(len(lineofword))\n",
    "                total = total + len(lineofword)\n",
    "                ls.append(lineofword)\n",
    "            print(ls)\n",
    "#             return total\n",
    "    except:\n",
    "        return -1\n",
    "                "
   ]
  },
  {
   "cell_type": "code",
   "execution_count": 11,
   "metadata": {},
   "outputs": [
    {
     "name": "stdout",
     "output_type": "stream",
     "text": [
      "This is a sample file for testing\n",
      "for Python course for\n",
      "learners in CloudxLab.\n",
      "\n",
      "[['T'], ['h'], ['i'], ['s'], ['', ''], ['i'], ['s'], ['', ''], ['a'], ['', ''], ['s'], ['a'], ['m'], ['p'], ['l'], ['e'], ['', ''], ['f'], ['i'], ['l'], ['e'], ['', ''], ['f'], ['o'], ['r'], ['', ''], ['t'], ['e'], ['s'], ['t'], ['i'], ['n'], ['g'], ['\\n'], ['f'], ['o'], ['r'], ['', ''], ['P'], ['y'], ['t'], ['h'], ['o'], ['n'], ['', ''], ['c'], ['o'], ['u'], ['r'], ['s'], ['e'], ['', ''], ['f'], ['o'], ['r'], ['\\n'], ['l'], ['e'], ['a'], ['r'], ['n'], ['e'], ['r'], ['s'], ['', ''], ['i'], ['n'], ['', ''], ['C'], ['l'], ['o'], ['u'], ['d'], ['x'], ['L'], ['a'], ['b'], ['.'], ['\\n']]\n"
     ]
    }
   ],
   "source": [
    "file_read_func (\"/cxldata/python_sample_file\") "
   ]
  },
  {
   "cell_type": "code",
   "execution_count": 1,
   "metadata": {},
   "outputs": [],
   "source": [
    "check = 0\n",
    "with open(\"/cxldata/python_sample_file\") as f:\n",
    "    for line in f:\n",
    "        if(line.startswith('w')):\n",
    "            check = check + 1"
   ]
  },
  {
   "cell_type": "code",
   "execution_count": 16,
   "metadata": {},
   "outputs": [],
   "source": [
    "def startswith (string):\n",
    "    try:\n",
    "        \n",
    "        check =0\n",
    "        with open(string) as f :\n",
    "            for line in f:\n",
    "                print (line)\n",
    "                if(line.startswith('w')):\n",
    "                    check = check + 1\n",
    "                    return check\n",
    "                else:\n",
    "                    return 0\n",
    "    except:\n",
    "        print(\"no file present\")"
   ]
  },
  {
   "cell_type": "code",
   "execution_count": 17,
   "metadata": {},
   "outputs": [
    {
     "name": "stdout",
     "output_type": "stream",
     "text": [
      "This is a sample file for testing\n",
      "\n"
     ]
    },
    {
     "data": {
      "text/plain": [
       "0"
      ]
     },
     "execution_count": 17,
     "metadata": {},
     "output_type": "execute_result"
    }
   ],
   "source": [
    "startswith (\"/cxldata/python_sample_file\")"
   ]
  },
  {
   "cell_type": "code",
   "execution_count": 22,
   "metadata": {},
   "outputs": [
    {
     "name": "stdout",
     "output_type": "stream",
     "text": [
      "This is a sample file for testing\n",
      "for Python course for\n",
      "learners in CloudxLab.\n",
      "\n"
     ]
    }
   ],
   "source": [
    "with open(\"/cxldata/python_sample_file\", 'r') as f:\n",
    "    print(f.read())"
   ]
  },
  {
   "cell_type": "code",
   "execution_count": 29,
   "metadata": {},
   "outputs": [],
   "source": [
    "with open(\"cxl.txt\", 'w') as f:\n",
    "    f.write(\"Python is a scripting language\")"
   ]
  },
  {
   "cell_type": "code",
   "execution_count": 30,
   "metadata": {},
   "outputs": [],
   "source": [
    "with open(\"cxl.txt\", 'a') as f:\n",
    "    f.write(\"Python is a scripting language\")"
   ]
  },
  {
   "cell_type": "code",
   "execution_count": 32,
   "metadata": {},
   "outputs": [
    {
     "ename": "FileNotFoundError",
     "evalue": "[Errno 2] No such file or directory: 'clx.txt'",
     "output_type": "error",
     "traceback": [
      "\u001b[0;31m---------------------------------------------------------------------------\u001b[0m",
      "\u001b[0;31mFileNotFoundError\u001b[0m                         Traceback (most recent call last)",
      "\u001b[0;32m<ipython-input-32-f7fd4b349e2d>\u001b[0m in \u001b[0;36m<module>\u001b[0;34m\u001b[0m\n\u001b[0;32m----> 1\u001b[0;31m \u001b[0;32mwith\u001b[0m \u001b[0mopen\u001b[0m\u001b[0;34m(\u001b[0m\u001b[0;34m\"clx.txt\"\u001b[0m\u001b[0;34m,\u001b[0m \u001b[0;34m'r'\u001b[0m\u001b[0;34m)\u001b[0m \u001b[0;32mas\u001b[0m \u001b[0mf\u001b[0m\u001b[0;34m:\u001b[0m\u001b[0;34m\u001b[0m\u001b[0;34m\u001b[0m\u001b[0m\n\u001b[0m\u001b[1;32m      2\u001b[0m     \u001b[0mprint\u001b[0m\u001b[0;34m(\u001b[0m\u001b[0mf\u001b[0m\u001b[0;34m.\u001b[0m\u001b[0mread\u001b[0m\u001b[0;34m(\u001b[0m\u001b[0;34m)\u001b[0m\u001b[0;34m)\u001b[0m\u001b[0;34m\u001b[0m\u001b[0;34m\u001b[0m\u001b[0m\n",
      "\u001b[0;31mFileNotFoundError\u001b[0m: [Errno 2] No such file or directory: 'clx.txt'"
     ]
    }
   ],
   "source": [
    "with open(\"clx.txt\", 'r') as f:\n",
    "    print(f.read())"
   ]
  },
  {
   "cell_type": "code",
   "execution_count": 38,
   "metadata": {},
   "outputs": [],
   "source": [
    "with open(\"python_file_writing.txt\", 'w') as f:\n",
    "    f.write(\"I am learning Python at CloudxLab.\")\n",
    "    f.close()"
   ]
  },
  {
   "cell_type": "code",
   "execution_count": 39,
   "metadata": {},
   "outputs": [
    {
     "name": "stdout",
     "output_type": "stream",
     "text": [
      "I am learning Python at CloudxLab.\n"
     ]
    }
   ],
   "source": [
    "with open(\"python_file_writing.txt\") as f:\n",
    "    print(f.read())"
   ]
  },
  {
   "cell_type": "code",
   "execution_count": 7,
   "metadata": {},
   "outputs": [],
   "source": [
    "numbers = {\"1\" : \"One\", \"2\" : \"Two\"}"
   ]
  },
  {
   "cell_type": "code",
   "execution_count": 8,
   "metadata": {},
   "outputs": [
    {
     "name": "stdout",
     "output_type": "stream",
     "text": [
      "One\n"
     ]
    }
   ],
   "source": [
    "print(numbers[\"1\"])"
   ]
  },
  {
   "cell_type": "code",
   "execution_count": 9,
   "metadata": {},
   "outputs": [],
   "source": [
    "numbers[\"3\"] = \"Three\""
   ]
  },
  {
   "cell_type": "code",
   "execution_count": 10,
   "metadata": {},
   "outputs": [
    {
     "data": {
      "text/plain": [
       "{'1': 'One', '2': 'Two', '3': 'Three'}"
      ]
     },
     "execution_count": 10,
     "metadata": {},
     "output_type": "execute_result"
    }
   ],
   "source": [
    "numbers"
   ]
  },
  {
   "cell_type": "code",
   "execution_count": 11,
   "metadata": {},
   "outputs": [
    {
     "name": "stdout",
     "output_type": "stream",
     "text": [
      "1\n",
      "2\n",
      "3\n"
     ]
    }
   ],
   "source": [
    "my_dictionary = {}\n",
    "my_dictionary=numbers \n",
    "for i in my_dictionary : \n",
    "    print (i)"
   ]
  },
  {
   "cell_type": "code",
   "execution_count": 13,
   "metadata": {},
   "outputs": [
    {
     "data": {
      "text/plain": [
       "True"
      ]
     },
     "execution_count": 13,
     "metadata": {},
     "output_type": "execute_result"
    }
   ],
   "source": [
    "(0, 1, 2000000) < (0, 3, 4)"
   ]
  },
  {
   "cell_type": "code",
   "execution_count": 2,
   "metadata": {},
   "outputs": [],
   "source": [
    "d = dict()"
   ]
  },
  {
   "cell_type": "code",
   "execution_count": 3,
   "metadata": {},
   "outputs": [
    {
     "name": "stdout",
     "output_type": "stream",
     "text": [
      "{}\n"
     ]
    }
   ],
   "source": [
    "print(d)"
   ]
  },
  {
   "cell_type": "code",
   "execution_count": 4,
   "metadata": {},
   "outputs": [
    {
     "name": "stdout",
     "output_type": "stream",
     "text": [
      "{'1 rupee coins': 10, '2 rupees coins': 5, '5 rupees coins': 6, '10 rupees coins': 12}\n"
     ]
    }
   ],
   "source": [
    "d['1 rupee coins'] = 10\n",
    "d['2 rupees coins'] = 5\n",
    "d['5 rupees coins'] = 6\n",
    "d['10 rupees coins'] = 12\n",
    "print(d)"
   ]
  },
  {
   "cell_type": "code",
   "execution_count": 7,
   "metadata": {},
   "outputs": [],
   "source": [
    "def segm(l, pivot):\n",
    "    left = 0\n",
    "    right = len(l) -1\n",
    "    while True:\n",
    "        while l[left]< pivot and left < len(l) :\n",
    "            left += 1\n",
    "        while l[right] >= pivot and right >= 0:\n",
    "            right -= 1\n",
    "        if left < right:\n",
    "            l[left],l[right]=l[right],l[left]\n",
    "        else:\n",
    "            break\n",
    "    return left"
   ]
  },
  {
   "cell_type": "code",
   "execution_count": 9,
   "metadata": {},
   "outputs": [
    {
     "data": {
      "text/plain": [
       "[7, 12, 9, 17, 8, 12, 20, 40]"
      ]
     },
     "execution_count": 9,
     "metadata": {},
     "output_type": "execute_result"
    }
   ],
   "source": [
    "l = [7,12,9,40,8,20,12,17]\n",
    "pivot = 20\n",
    "segm(l, pivot)\n",
    "l"
   ]
  },
  {
   "cell_type": "code",
   "execution_count": 10,
   "metadata": {},
   "outputs": [
    {
     "data": {
      "text/plain": [
       "(6, [7, 12, 9, 17, 8, 12, 20, 40])"
      ]
     },
     "execution_count": 10,
     "metadata": {},
     "output_type": "execute_result"
    }
   ],
   "source": [
    "segm(l, pivot),l"
   ]
  },
  {
   "cell_type": "code",
   "execution_count": 11,
   "metadata": {},
   "outputs": [],
   "source": [
    "def segmWithsort(l, pivot):\n",
    "    left = 0\n",
    "    right = len(l) -1\n",
    "    while True:\n",
    "        while l[left]< pivot and left < len(l) :\n",
    "            left += 1\n",
    "        while l[right] >= pivot and right >= 0:\n",
    "            right -= 1\n",
    "        if left < right:\n",
    "            l[left],l[right]=l[right],l[left]\n",
    "        else:\n",
    "            break\n",
    "    return left"
   ]
  },
  {
   "cell_type": "code",
   "execution_count": 1,
   "metadata": {},
   "outputs": [],
   "source": [
    "def sort1(l):\n",
    "    if len(l) <= 1:\n",
    "        return\n",
    "    \n",
    "    pivot =l[len(l)//2]\n",
    "    mid = segmWithsort(l,pivot)"
   ]
  },
  {
   "cell_type": "code",
   "execution_count": 2,
   "metadata": {},
   "outputs": [],
   "source": [
    "d = { 'one' : 1 , 'two' : 2, 'three' : 3, 'four': 4 }"
   ]
  },
  {
   "cell_type": "code",
   "execution_count": 3,
   "metadata": {},
   "outputs": [
    {
     "name": "stdout",
     "output_type": "stream",
     "text": [
      "4\n"
     ]
    }
   ],
   "source": [
    "print(len(d))\n"
   ]
  },
  {
   "cell_type": "code",
   "execution_count": 4,
   "metadata": {},
   "outputs": [
    {
     "name": "stdout",
     "output_type": "stream",
     "text": [
      "True\n"
     ]
    }
   ],
   "source": [
    "print('three' in d)"
   ]
  },
  {
   "cell_type": "code",
   "execution_count": 5,
   "metadata": {},
   "outputs": [
    {
     "name": "stdout",
     "output_type": "stream",
     "text": [
      "False\n"
     ]
    }
   ],
   "source": [
    "print(4 in d)"
   ]
  },
  {
   "cell_type": "code",
   "execution_count": 6,
   "metadata": {},
   "outputs": [
    {
     "name": "stdout",
     "output_type": "stream",
     "text": [
      "False\n"
     ]
    }
   ],
   "source": [
    "print(5 in d and 2 in d)"
   ]
  },
  {
   "cell_type": "code",
   "execution_count": 9,
   "metadata": {},
   "outputs": [],
   "source": [
    "d= {'1 rupee coins': 10, '2 rupees coins': 5, '5 rupees coins': 6, '10 rupees coins': 12}"
   ]
  },
  {
   "cell_type": "code",
   "execution_count": 10,
   "metadata": {},
   "outputs": [
    {
     "name": "stdout",
     "output_type": "stream",
     "text": [
      "18\n"
     ]
    }
   ],
   "source": [
    "print(d['5 rupees coins']+d['10 rupees coins'])"
   ]
  },
  {
   "cell_type": "code",
   "execution_count": 37,
   "metadata": {},
   "outputs": [
    {
     "name": "stdout",
     "output_type": "stream",
     "text": [
      "2\n"
     ]
    }
   ],
   "source": [
    "d = {\"apples\" : 2, \"bananas\" : 3, \"carrots\" : 12}\n",
    "print(d.get(\"apples\"))"
   ]
  },
  {
   "cell_type": "code",
   "execution_count": 34,
   "metadata": {},
   "outputs": [
    {
     "name": "stdout",
     "output_type": "stream",
     "text": [
      "apples\n",
      "bananas\n",
      "carrots\n"
     ]
    }
   ],
   "source": [
    "for fruit in d:\n",
    "    print(fruit)"
   ]
  },
  {
   "cell_type": "code",
   "execution_count": 17,
   "metadata": {},
   "outputs": [
    {
     "data": {
      "text/plain": [
       "['__class__',\n",
       " '__contains__',\n",
       " '__delattr__',\n",
       " '__delitem__',\n",
       " '__dir__',\n",
       " '__doc__',\n",
       " '__eq__',\n",
       " '__format__',\n",
       " '__ge__',\n",
       " '__getattribute__',\n",
       " '__getitem__',\n",
       " '__gt__',\n",
       " '__hash__',\n",
       " '__init__',\n",
       " '__init_subclass__',\n",
       " '__iter__',\n",
       " '__le__',\n",
       " '__len__',\n",
       " '__lt__',\n",
       " '__ne__',\n",
       " '__new__',\n",
       " '__reduce__',\n",
       " '__reduce_ex__',\n",
       " '__repr__',\n",
       " '__setattr__',\n",
       " '__setitem__',\n",
       " '__sizeof__',\n",
       " '__str__',\n",
       " '__subclasshook__',\n",
       " 'clear',\n",
       " 'copy',\n",
       " 'fromkeys',\n",
       " 'get',\n",
       " 'items',\n",
       " 'keys',\n",
       " 'pop',\n",
       " 'popitem',\n",
       " 'setdefault',\n",
       " 'update',\n",
       " 'values']"
      ]
     },
     "execution_count": 17,
     "metadata": {},
     "output_type": "execute_result"
    }
   ],
   "source": [
    "dir(d)"
   ]
  },
  {
   "cell_type": "code",
   "execution_count": 25,
   "metadata": {},
   "outputs": [
    {
     "name": "stdout",
     "output_type": "stream",
     "text": [
      "dict_keys(['apples', 'bananas', 'carrots'])\n"
     ]
    }
   ],
   "source": [
    "x = d.keys()\n",
    "print(x)"
   ]
  },
  {
   "cell_type": "code",
   "execution_count": 27,
   "metadata": {},
   "outputs": [
    {
     "name": "stdout",
     "output_type": "stream",
     "text": [
      "dict_items([('apples', 2), ('bananas', 3), ('carrots', 12)])\n"
     ]
    }
   ],
   "source": [
    "print(d.items())"
   ]
  },
  {
   "cell_type": "code",
   "execution_count": 28,
   "metadata": {},
   "outputs": [
    {
     "name": "stdout",
     "output_type": "stream",
     "text": [
      "dict_values([2, 3, 12])\n"
     ]
    }
   ],
   "source": [
    "print(d.values())"
   ]
  },
  {
   "cell_type": "code",
   "execution_count": 35,
   "metadata": {},
   "outputs": [
    {
     "name": "stdout",
     "output_type": "stream",
     "text": [
      "the\n",
      "dict_items([('the', 2), ('quick', 1), ('brown', 1), ('fox', 1), ('jumps', 1), ('over', 1), ('lazy', 1), ('dog', 1)])\n"
     ]
    }
   ],
   "source": [
    "words = 'the quick brown fox jumps over the lazy dog'\n",
    "result = {}\n",
    "#(words)\n",
    "words = words.split()\n",
    "for word in words:\n",
    "   # print (word)\n",
    "    if word not in result:\n",
    "       # print(word)\n",
    "        pervious_sum =1\n",
    "        result[word] =pervious_sum\n",
    "        #print(pervious_sum)\n",
    "    else:\n",
    "        pervious_sum = result[word]\n",
    "        print (word)\n",
    "        result[word] = pervious_sum + 1\n",
    "print (result.items())\n",
    "        \n",
    "##prev_count = result[word]\n",
    "##result[word]= 2"
   ]
  },
  {
   "cell_type": "code",
   "execution_count": 36,
   "metadata": {},
   "outputs": [],
   "source": [
    "\n",
    "def dict_func(txt):\n",
    "    words = txt.lower().split()\n",
    "    result = {}\n",
    "    for word in words:\n",
    "        if word not in result:\n",
    "            prev_count = 1\n",
    "            result[word] = prev_count\n",
    "        else:\n",
    "            prev_count = result[word]\n",
    "            print (prev_count)\n",
    "            result[word] = prev_count + 1\n",
    "    return result"
   ]
  },
  {
   "cell_type": "code",
   "execution_count": 37,
   "metadata": {},
   "outputs": [
    {
     "name": "stdout",
     "output_type": "stream",
     "text": [
      "1\n"
     ]
    },
    {
     "data": {
      "text/plain": [
       "{'the': 2,\n",
       " 'quick': 1,\n",
       " 'brown': 1,\n",
       " 'fox': 1,\n",
       " 'jumps': 1,\n",
       " 'over': 1,\n",
       " 'lazy': 1,\n",
       " 'dog': 1}"
      ]
     },
     "execution_count": 37,
     "metadata": {},
     "output_type": "execute_result"
    }
   ],
   "source": [
    "dict_func('the quick brown fox jumps over the lazy dog')"
   ]
  },
  {
   "cell_type": "code",
   "execution_count": 41,
   "metadata": {},
   "outputs": [
    {
     "name": "stdout",
     "output_type": "stream",
     "text": [
      "      4 \r\n",
      "      1 (#15\r\n",
      "      1 adventures\r\n",
      "      1 all\r\n",
      "      1 any\r\n",
      "      1 are\r\n",
      "      2 arthur\r\n",
      "      2 be\r\n",
      "      1 before\r\n",
      "      2 by\r\n",
      "      1 change\r\n",
      "      1 changing\r\n",
      "      1 check\r\n",
      "      2 conan\r\n",
      "      2 copyright\r\n",
      "      1 country\r\n",
      "      2 do\r\n",
      "      1 downloading\r\n",
      "      1 doyle\r\n",
      "      1 doyle)\r\n",
      "      1 ebook\r\n",
      "      1 ebook.\r\n",
      "      1 edit\r\n",
      "      1 file.\r\n",
      "      1 first\r\n",
      "      1 for\r\n",
      "      3 gutenberg\r\n",
      "      1 header\r\n",
      "      1 holmes\r\n",
      "      1 in\r\n",
      "      1 it.\r\n",
      "      2 laws\r\n",
      "      2 not\r\n",
      "      2 of\r\n",
      "      3 or\r\n",
      "      1 other\r\n",
      "      1 our\r\n",
      "      1 over\r\n",
      "      1 please\r\n",
      "      3 project\r\n",
      "      1 redistributing\r\n",
      "      1 remove\r\n",
      "      1 seen\r\n",
      "      1 series\r\n",
      "      1 sherlock\r\n",
      "      1 should\r\n",
      "      2 sir\r\n",
      "      1 sure\r\n",
      "      6 the\r\n",
      "      1 thing\r\n",
      "      3 this\r\n",
      "      1 to\r\n",
      "      1 viewing\r\n",
      "      1 when\r\n",
      "      1 world.\r\n",
      "      1 your\r\n"
     ]
    }
   ],
   "source": [
    "!head /cxldata/big.txt|tr 'A-Z' 'a-z'|sed -E 's/ /\\n/g'|sort|uniq -c\n"
   ]
  },
  {
   "cell_type": "code",
   "execution_count": 45,
   "metadata": {},
   "outputs": [
    {
     "data": {
      "text/plain": [
       "(12, 323, 'd', [1, 23], False)"
      ]
     },
     "execution_count": 45,
     "metadata": {},
     "output_type": "execute_result"
    }
   ],
   "source": [
    "t = (12,323, 'd', [1,23], False)\n",
    "t"
   ]
  },
  {
   "cell_type": "code",
   "execution_count": 4,
   "metadata": {},
   "outputs": [
    {
     "data": {
      "text/plain": [
       "int"
      ]
     },
     "execution_count": 4,
     "metadata": {},
     "output_type": "execute_result"
    }
   ],
   "source": [
    "t = (1)\n",
    "type(t)"
   ]
  },
  {
   "cell_type": "code",
   "execution_count": 5,
   "metadata": {},
   "outputs": [
    {
     "data": {
      "text/plain": [
       "1"
      ]
     },
     "execution_count": 5,
     "metadata": {},
     "output_type": "execute_result"
    }
   ],
   "source": [
    "t"
   ]
  },
  {
   "cell_type": "code",
   "execution_count": 6,
   "metadata": {},
   "outputs": [
    {
     "name": "stdout",
     "output_type": "stream",
     "text": [
      "()\n"
     ]
    }
   ],
   "source": [
    "t = tuple()\n",
    "print(t)"
   ]
  },
  {
   "cell_type": "code",
   "execution_count": 8,
   "metadata": {},
   "outputs": [],
   "source": [
    "t1 = tuple(\"1,2,3,4,5\")\n",
    "t2 = tuple([1,2,3,4,5])\n",
    "t3 = tuple((1,2,3,4,5))"
   ]
  },
  {
   "cell_type": "code",
   "execution_count": 11,
   "metadata": {},
   "outputs": [
    {
     "data": {
      "text/plain": [
       "5"
      ]
     },
     "execution_count": 11,
     "metadata": {},
     "output_type": "execute_result"
    }
   ],
   "source": [
    "len(t3)"
   ]
  },
  {
   "cell_type": "code",
   "execution_count": 45,
   "metadata": {},
   "outputs": [
    {
     "name": "stdout",
     "output_type": "stream",
     "text": [
      "34\n",
      "9\n",
      "34\n"
     ]
    }
   ],
   "source": [
    "t = (1,3,5,2,54,34,2,34,5)\n",
    "print (t[7])\n",
    "l = len(t)\n",
    "print(len(t))\n",
    "print(t[l-2])"
   ]
  },
  {
   "cell_type": "code",
   "execution_count": 46,
   "metadata": {},
   "outputs": [],
   "source": [
    "t3 = t[1:3] + t2[:]"
   ]
  },
  {
   "cell_type": "code",
   "execution_count": 47,
   "metadata": {},
   "outputs": [
    {
     "data": {
      "text/plain": [
       "(3, 5, 5, 2, 54)"
      ]
     },
     "execution_count": 47,
     "metadata": {},
     "output_type": "execute_result"
    }
   ],
   "source": [
    "t3"
   ]
  },
  {
   "cell_type": "code",
   "execution_count": 48,
   "metadata": {},
   "outputs": [
    {
     "name": "stdout",
     "output_type": "stream",
     "text": [
      ": 3\n",
      "3\n",
      ": 5\n",
      "8\n",
      ": 5\n",
      "13\n",
      ": 2\n",
      "15\n",
      ": 54\n",
      "69\n"
     ]
    }
   ],
   "source": [
    "sum =0\n",
    "for i in range(len(t3)):\n",
    "    print(\":\",t3[i])\n",
    "    sum = sum + t3[i]\n",
    "    print(sum)"
   ]
  },
  {
   "cell_type": "code",
   "execution_count": 49,
   "metadata": {},
   "outputs": [
    {
     "data": {
      "text/plain": [
       "(5, 2, 54)"
      ]
     },
     "execution_count": 49,
     "metadata": {},
     "output_type": "execute_result"
    }
   ],
   "source": [
    "t2 = t[2:5]\n",
    "t2"
   ]
  },
  {
   "cell_type": "code",
   "execution_count": 50,
   "metadata": {},
   "outputs": [
    {
     "name": "stdout",
     "output_type": "stream",
     "text": [
      "61\n"
     ]
    }
   ],
   "source": [
    "sum1 =0\n",
    "for i in range(len(t2)):\n",
    "    sum1 = sum1 + t2[i]\n",
    "print(sum1)"
   ]
  },
  {
   "cell_type": "code",
   "execution_count": 51,
   "metadata": {},
   "outputs": [
    {
     "name": "stdout",
     "output_type": "stream",
     "text": [
      "True\n"
     ]
    }
   ],
   "source": [
    "print((0, 1, 2) < (0, 3, 4))"
   ]
  },
  {
   "cell_type": "code",
   "execution_count": 52,
   "metadata": {},
   "outputs": [
    {
     "data": {
      "text/plain": [
       "True"
      ]
     },
     "execution_count": 52,
     "metadata": {},
     "output_type": "execute_result"
    }
   ],
   "source": [
    "(0, 1, 2) < (0, 3)"
   ]
  },
  {
   "cell_type": "code",
   "execution_count": 53,
   "metadata": {},
   "outputs": [],
   "source": [
    "l = [(0,23,34), (2,34,23), (1,34,23)]\n",
    "l.sort()"
   ]
  },
  {
   "cell_type": "code",
   "execution_count": 59,
   "metadata": {},
   "outputs": [
    {
     "name": "stdout",
     "output_type": "stream",
     "text": [
      "(2, 34, 23)\n"
     ]
    }
   ],
   "source": [
    "s=l[2]\n",
    "print(s)"
   ]
  },
  {
   "cell_type": "code",
   "execution_count": 60,
   "metadata": {},
   "outputs": [
    {
     "name": "stdout",
     "output_type": "stream",
     "text": [
      "59\n"
     ]
    }
   ],
   "source": [
    "sum1 =0\n",
    "for i in range(len(s)):\n",
    "    sum1 = sum1 + s[i]\n",
    "print(sum1)"
   ]
  },
  {
   "cell_type": "code",
   "execution_count": null,
   "metadata": {},
   "outputs": [],
   "source": [
    "import re \n",
    "hand = open()\n"
   ]
  },
  {
   "cell_type": "code",
   "execution_count": 1,
   "metadata": {},
   "outputs": [
    {
     "name": "stdout",
     "output_type": "stream",
     "text": [
      "total 424\n",
      "-rw-r--r-- 1 arunavamaiti4453 arunavamaiti4453 113075 Feb 16 13:59 1st_part_Arunava.ipynb\n",
      "-rw-r--r-- 1 arunavamaiti4453 arunavamaiti4453  30540 Jan 17  2018 Bikes_problem.ipynb\n",
      "-rw-r--r-- 1 arunavamaiti4453 arunavamaiti4453  33615 Jan 17  2018 Bikes_solution.ipynb\n",
      "-rw-r--r-- 1 arunavamaiti4453 arunavamaiti4453    581 May 11  2018 cat_vs_noncat_classifier.ipynb\n",
      "-rw-r--r-- 1 arunavamaiti4453 arunavamaiti4453    581 Sep 14  2020 cat_vs_noncat_numpy.ipynb\n",
      "-rw-r--r-- 1 arunavamaiti4453 arunavamaiti4453    581 May 11  2018 classify_clothes.ipynb\n",
      "-rw-r--r-- 1 arunavamaiti4453 arunavamaiti4453    581 Jul 15  2020 classifying_flowers_iris_with_keras.ipynb\n",
      "-rw-r--r-- 1 arunavamaiti4453 arunavamaiti4453     60 Feb  9 16:02 cxl.txt\n",
      "-rw-r--r-- 1 arunavamaiti4453 arunavamaiti4453    581 Sep 15  2020 empty_jupyter_file.ipynb\n",
      "-rw-r--r-- 1 arunavamaiti4453 arunavamaiti4453    581 Dec 28  2017 End_to_end_project.ipynb\n",
      "-rw-r--r-- 1 arunavamaiti4453 arunavamaiti4453    581 Jul 15  2020 fashion_mnist_with_keras.ipynb\n",
      "-rw-r--r-- 1 arunavamaiti4453 arunavamaiti4453    581 Jan 26 16:52 foundations_of_python_450.ipynb\n",
      "-rw-r--r-- 1 arunavamaiti4453 arunavamaiti4453 109429 Feb 17 09:56 foundations_of_python_459.ipynb\n",
      "-rw-r--r-- 1 arunavamaiti4453 arunavamaiti4453    581 Jul 15  2020 hands_on_matplotlib.ipynb\n",
      "-rw-r--r-- 1 arunavamaiti4453 arunavamaiti4453    581 Jul 21  2020 handson_matplotlib.ipynb\n",
      "-rw-r--r-- 1 arunavamaiti4453 arunavamaiti4453  48060 Feb  1 18:01 myworksheet.ipynb\n",
      "-rw-r--r-- 1 arunavamaiti4453 arunavamaiti4453    581 Sep 11  2020 nyse_stock_prediction_lstm.ipynb\n",
      "-rw-r--r-- 1 arunavamaiti4453 arunavamaiti4453    581 Jul 15  2020 predicting_california_house_pricing_with_keras.ipynb\n",
      "-rw-r--r-- 1 arunavamaiti4453 arunavamaiti4453    581 Jul 20  2020 predict_rainfall.ipynb\n",
      "-rw-r--r-- 1 arunavamaiti4453 arunavamaiti4453     34 Feb  9 16:32 python_file_writing.txt\n",
      "-rw-r--r-- 1 arunavamaiti4453 arunavamaiti4453    581 Jan 16 16:30 python_foundations_assessments_103.ipynb\n",
      "-rw-r--r-- 1 arunavamaiti4453 arunavamaiti4453    581 Nov  9  2017 Python.ipynb\n",
      "-rw-r--r-- 1 arunavamaiti4453 arunavamaiti4453    581 Jan 16 16:31 python_videos_and_questions_50.ipynb\n",
      "-rw-r--r-- 1 arunavamaiti4453 arunavamaiti4453    821 Aug 27  2018 scala_spark.ipynb\n",
      "-rw-r--r-- 1 arunavamaiti4453 arunavamaiti4453    581 Jul  1  2020 spam_classifier.ipynb\n",
      "-rw-r--r-- 1 arunavamaiti4453 arunavamaiti4453    581 Jul 20  2020 stock_price_prediction.ipynb\n",
      "-rw-r--r-- 1 arunavamaiti4453 arunavamaiti4453    581 Jul  1  2020 titanic_passenger_survival.ipynb\n"
     ]
    }
   ],
   "source": [
    "!ls -l"
   ]
  },
  {
   "cell_type": "code",
   "execution_count": 2,
   "metadata": {},
   "outputs": [
    {
     "name": "stdout",
     "output_type": "stream",
     "text": [
      "total 424\r\n",
      "-rw-r--r-- 1 arunavamaiti4453 arunavamaiti4453 113075 Feb 16 13:59 1st_part_Arunava.ipynb\r\n",
      "-rw-r--r-- 1 arunavamaiti4453 arunavamaiti4453  30540 Jan 17  2018 Bikes_problem.ipynb\r\n",
      "-rw-r--r-- 1 arunavamaiti4453 arunavamaiti4453  33615 Jan 17  2018 Bikes_solution.ipynb\r\n",
      "-rw-r--r-- 1 arunavamaiti4453 arunavamaiti4453    581 May 11  2018 cat_vs_noncat_classifier.ipynb\r\n",
      "-rw-r--r-- 1 arunavamaiti4453 arunavamaiti4453    581 Sep 14  2020 cat_vs_noncat_numpy.ipynb\r\n",
      "-rw-r--r-- 1 arunavamaiti4453 arunavamaiti4453    581 May 11  2018 classify_clothes.ipynb\r\n",
      "-rw-r--r-- 1 arunavamaiti4453 arunavamaiti4453    581 Jul 15  2020 classifying_flowers_iris_with_keras.ipynb\r\n",
      "-rw-r--r-- 1 arunavamaiti4453 arunavamaiti4453     60 Feb  9 16:02 cxl.txt\r\n",
      "-rw-r--r-- 1 arunavamaiti4453 arunavamaiti4453    581 Sep 15  2020 empty_jupyter_file.ipynb\r\n",
      "-rw-r--r-- 1 arunavamaiti4453 arunavamaiti4453    581 Dec 28  2017 End_to_end_project.ipynb\r\n",
      "-rw-r--r-- 1 arunavamaiti4453 arunavamaiti4453    581 Jul 15  2020 fashion_mnist_with_keras.ipynb\r\n",
      "-rw-r--r-- 1 arunavamaiti4453 arunavamaiti4453    581 Jan 26 16:52 foundations_of_python_450.ipynb\r\n",
      "-rw-r--r-- 1 arunavamaiti4453 arunavamaiti4453 109429 Feb 17 09:56 foundations_of_python_459.ipynb\r\n",
      "-rw-r--r-- 1 arunavamaiti4453 arunavamaiti4453    581 Jul 15  2020 hands_on_matplotlib.ipynb\r\n",
      "-rw-r--r-- 1 arunavamaiti4453 arunavamaiti4453    581 Jul 21  2020 handson_matplotlib.ipynb\r\n",
      "-rw-r--r-- 1 arunavamaiti4453 arunavamaiti4453  48060 Feb  1 18:01 myworksheet.ipynb\r\n",
      "-rw-r--r-- 1 arunavamaiti4453 arunavamaiti4453    581 Sep 11  2020 nyse_stock_prediction_lstm.ipynb\r\n",
      "-rw-r--r-- 1 arunavamaiti4453 arunavamaiti4453    581 Jul 15  2020 predicting_california_house_pricing_with_keras.ipynb\r\n",
      "-rw-r--r-- 1 arunavamaiti4453 arunavamaiti4453    581 Jul 20  2020 predict_rainfall.ipynb\r\n",
      "-rw-r--r-- 1 arunavamaiti4453 arunavamaiti4453     34 Feb  9 16:32 python_file_writing.txt\r\n",
      "-rw-r--r-- 1 arunavamaiti4453 arunavamaiti4453    581 Jan 16 16:30 python_foundations_assessments_103.ipynb\r\n",
      "-rw-r--r-- 1 arunavamaiti4453 arunavamaiti4453    581 Nov  9  2017 Python.ipynb\r\n",
      "-rw-r--r-- 1 arunavamaiti4453 arunavamaiti4453    581 Jan 16 16:31 python_videos_and_questions_50.ipynb\r\n",
      "-rw-r--r-- 1 arunavamaiti4453 arunavamaiti4453    821 Aug 27  2018 scala_spark.ipynb\r\n",
      "-rw-r--r-- 1 arunavamaiti4453 arunavamaiti4453    581 Jul  1  2020 spam_classifier.ipynb\r\n",
      "-rw-r--r-- 1 arunavamaiti4453 arunavamaiti4453    581 Jul 20  2020 stock_price_prediction.ipynb\r\n",
      "-rw-r--r-- 1 arunavamaiti4453 arunavamaiti4453    581 Jul  1  2020 titanic_passenger_survival.ipynb\r\n"
     ]
    }
   ],
   "source": [
    "import re \n",
    "hand = open \n"
   ]
  },
  {
   "cell_type": "code",
   "execution_count": 63,
   "metadata": {},
   "outputs": [],
   "source": [
    "import re \n",
    "x = \"My 2 favorite numbers are 19 and 42\"\n",
    "a =\"From stephen.marquard@uct.ac.za Sat Jan 5 09:14:16 2008\"\n",
    "y = re.findall(\"[0-9]+\",x)\n",
    "z = re.findall(\"\\S+@\\S+\",a)"
   ]
  },
  {
   "cell_type": "code",
   "execution_count": 65,
   "metadata": {},
   "outputs": [
    {
     "name": "stdout",
     "output_type": "stream",
     "text": [
      "['stephen.marquard@uct.ac.za']\n"
     ]
    }
   ],
   "source": [
    "print(z)"
   ]
  },
  {
   "cell_type": "code",
   "execution_count": null,
   "metadata": {},
   "outputs": [],
   "source": [
    "words = lise.split()"
   ]
  },
  {
   "cell_type": "code",
   "execution_count": 6,
   "metadata": {},
   "outputs": [],
   "source": [
    "arr = [(1,\"Abhinav\"),(3,\"Sandeep\"),(2,\"shivanshu\"),(4,\"Abhishek\")]\n",
    "arr.sort()"
   ]
  },
  {
   "cell_type": "code",
   "execution_count": 9,
   "metadata": {},
   "outputs": [
    {
     "data": {
      "text/plain": [
       "[(1, 'Abhinav'), (2, 'shivanshu'), (3, 'Sandeep'), (4, 'Abhishek')]"
      ]
     },
     "execution_count": 9,
     "metadata": {},
     "output_type": "execute_result"
    }
   ],
   "source": [
    "arr"
   ]
  },
  {
   "cell_type": "code",
   "execution_count": 10,
   "metadata": {},
   "outputs": [
    {
     "ename": "TypeError",
     "evalue": "append() takes exactly one argument (2 given)",
     "output_type": "error",
     "traceback": [
      "\u001b[0;31m---------------------------------------------------------------------------\u001b[0m",
      "\u001b[0;31mTypeError\u001b[0m                                 Traceback (most recent call last)",
      "\u001b[0;32m<ipython-input-10-b21b27a059f4>\u001b[0m in \u001b[0;36m<module>\u001b[0;34m\u001b[0m\n\u001b[1;32m      1\u001b[0m \u001b[0mnew_arr\u001b[0m \u001b[0;34m=\u001b[0m \u001b[0;34m[\u001b[0m\u001b[0;34m]\u001b[0m\u001b[0;34m\u001b[0m\u001b[0;34m\u001b[0m\u001b[0m\n\u001b[1;32m      2\u001b[0m \u001b[0;32mfor\u001b[0m \u001b[0mf\u001b[0m\u001b[0;34m,\u001b[0m\u001b[0ms\u001b[0m \u001b[0;32min\u001b[0m \u001b[0marr\u001b[0m\u001b[0;34m:\u001b[0m\u001b[0;34m\u001b[0m\u001b[0;34m\u001b[0m\u001b[0m\n\u001b[0;32m----> 3\u001b[0;31m     \u001b[0mnew_arr\u001b[0m\u001b[0;34m.\u001b[0m\u001b[0mappend\u001b[0m\u001b[0;34m(\u001b[0m\u001b[0mf\u001b[0m\u001b[0;34m,\u001b[0m\u001b[0ms\u001b[0m\u001b[0;34m)\u001b[0m\u001b[0;34m\u001b[0m\u001b[0;34m\u001b[0m\u001b[0m\n\u001b[0m",
      "\u001b[0;31mTypeError\u001b[0m: append() takes exactly one argument (2 given)"
     ]
    }
   ],
   "source": [
    "new_arr = []\n",
    "for f,s in arr:\n",
    "    new_arr.append(f,s)"
   ]
  },
  {
   "cell_type": "code",
   "execution_count": 1,
   "metadata": {},
   "outputs": [
    {
     "name": "stdout",
     "output_type": "stream",
     "text": [
      "Socket successfully created here\n",
      "Socket successfully connected to www.bing.com\n"
     ]
    }
   ],
   "source": [
    "import socket\n",
    "import sys\n",
    "\n",
    "hostname = \"www.bing.com\"\n",
    "\n",
    "try:\n",
    "    s = socket.socket(socket.AF_INET, socket.SOCK_STREAM)\n",
    "    print (\"Socket successfully created here\")\n",
    "except socket.error as err:\n",
    "    print (\"Socket creation failed here with error %s\" %(err))\n",
    "\n",
    "# default port for socket\n",
    "port = 80\n",
    "\n",
    "try:\n",
    "    host_ip = socket.gethostbyname(hostname)\n",
    "except socket.gaierror:\n",
    "    print (\"Error resolving the host\")\n",
    "    sys.exit()\n",
    "\n",
    "# connecting to the server\n",
    "s.connect((host_ip, port))\n",
    "\n",
    "print (f\"Socket successfully connected to {hostname}\")"
   ]
  },
  {
   "cell_type": "code",
   "execution_count": null,
   "metadata": {},
   "outputs": [
    {
     "name": "stdout",
     "output_type": "stream",
     "text": [
      "Socket successfully created\n",
      "socket binded to 4042\n",
      "socket started listening\n"
     ]
    }
   ],
   "source": [
    "#server side program\n",
    "import socket\n",
    "# create a socket object\n",
    "s = socket.socket()\n",
    "print (\"Socket successfully created\")\n",
    "# choose any random available port\n",
    "port = 4042\n",
    "\n",
    "# Next bind to the port\n",
    "# empty string makes listen from all computers in the network\n",
    "s.bind(('', port))\n",
    "print (\"socket binded to %s\" %(port))\n",
    "# start listening\n",
    "s.listen(5)\n",
    "print (\"socket started listening\")\n",
    "\n",
    "# a forever loop until we interrupt it or\n",
    "# an error occurs\n",
    "counter = 0\n",
    "while counter < 5:\n",
    "    # Keep establishing connection with clients\n",
    "    c, addr = s.accept()\n",
    "    print ('Got a connection from', addr )\n",
    "    counter+= 1\n",
    "    # send a message to the client. encoding to send byte type.\n",
    "    c.send('We listened to you'.encode())\n",
    "    # Close the connection with the client\n",
    "    c.close()\n",
    "    # Breaking once connection closed"
   ]
  },
  {
   "cell_type": "code",
   "execution_count": null,
   "metadata": {},
   "outputs": [],
   "source": [
    "class Vehicle:\n",
    "    #dunder\n",
    "    def __init__(self, color, make, model=\"Good\"):\n",
    "        self.color = color\n",
    "        self.make = make\n",
    "        self.model = model\n",
    "        self.speed = 0\n",
    "        #self.drag = 0\n",
    "\n",
    "    def __repr__(self):\n",
    "        return \"My vehicle is:\" + self.color + \":\" + self.make + \":\" + str(self.speed)\n",
    "\n",
    "    def run(self, speed):\n",
    "        self.speed = speed\n",
    "\n",
    "veh1 = Vehicle(\"Red\", \"Toyota\", \"Corrola\")\n",
    "print(veh1)\n",
    "print(veh1.color)\n",
    "print(veh1.make)\n",
    "print(veh1.model)\n",
    "veh1.run(100)\n",
    "print(veh1)\n",
    "\n",
    "myvehs = [\n",
    "    Vehicle(\"Red\", \"Toyota1\", \"Corrola1\"),\n",
    "    Vehicle(\"Reds\", \"Toyota2\", \"Corrola2\"),\n",
    "    Vehicle(\"Redd\", \"Toyota3\", \"Corrola3\"),\n",
    "    Vehicle(\"Redd\", \"Toyota4\", \"Corrola4\")\n",
    "]\n",
    "\n",
    "for veh in myvehs:\n",
    "    print(veh)\n",
    "\n",
    "class Car(Vehicle):\n",
    "    drag = 0\n",
    "    def do_drag(self, drag):\n",
    "        self.drag = drag\n",
    "\n",
    "    def __repr__(self):\n",
    "        return \"My car is:\" + self.color + \":\" + self.make + \":\" + \" Drag: \" + str(self.drag)\n",
    "\n",
    "car = Car(\"Red\", \"Toyota\", \"Corrola\")\n",
    "print(car)\n",
    "car.do_drag(90)\n",
    "print(car)\n",
    "\n",
    "class CarSports(Car, Vehicle):\n",
    "    fly = 0\n",
    "    def do_fly(self, fly):\n",
    "        self.fly = fly\n",
    "\n",
    "    def __repr__(self):\n",
    "        return \"My car is:\" + self.color + \":\" + self.make + \":\" + \" Drag: \" + str(self.drag) \\\n",
    "        + \" Fly: \" + str(self.fly)\n",
    "\n",
    "carsports1 = CarSports(\"Red\", \"Toyota\", \"Corrola\")\n",
    "print(carsports1)\n",
    "carsports1.do_fly(90)\n",
    "print(carsports1)"
   ]
  },
  {
   "cell_type": "code",
   "execution_count": null,
   "metadata": {},
   "outputs": [],
   "source": [
    "lambda arguments : expression"
   ]
  },
  {
   "cell_type": "code",
   "execution_count": 7,
   "metadata": {},
   "outputs": [
    {
     "ename": "SyntaxError",
     "evalue": "invalid syntax (<ipython-input-7-fe9fc780f95c>, line 5)",
     "output_type": "error",
     "traceback": [
      "\u001b[0;36m  File \u001b[0;32m\"<ipython-input-7-fe9fc780f95c>\"\u001b[0;36m, line \u001b[0;32m5\u001b[0m\n\u001b[0;31m    for j in range(len(array1[i]))\u001b[0m\n\u001b[0m                                  ^\u001b[0m\n\u001b[0;31mSyntaxError\u001b[0m\u001b[0;31m:\u001b[0m invalid syntax\n"
     ]
    }
   ],
   "source": [
    "array1 = [[1,2],[2,4],[3,3]]\n",
    "array2 =[]\n",
    "for i in range(len(array1)):\n",
    "    print(array1[i])\n",
    "    for j in range(len(array1[i]))\n",
    "        print(array1[i][j])"
   ]
  },
  {
   "cell_type": "code",
   "execution_count": null,
   "metadata": {},
   "outputs": [],
   "source": [
    "def gaussian_elimination(A, b):\n",
    "    n = len(A)\n",
    "\n",
    "    # Forward elimination\n",
    "    for i in range(n):\n",
    "        # Partial pivoting\n",
    "        max_index = i\n",
    "        for j in range(i + 1, n):\n",
    "            if abs(A[j][i]) > abs(A[max_index][i]):\n",
    "                max_index = j\n",
    "        A[i], A[max_index] = A[max_index], A[i]\n",
    "        b[i], b[max_index] = b[max_index], b[i]\n",
    "\n",
    "        # Make all entries below A[i][i] zero\n",
    "        for j in range(i + 1, n):\n",
    "            factor = A[j][i] / A[i][i]\n",
    "            for k in range(i, n):\n",
    "                A[j][k] -= factor * A[i][k]\n",
    "            b[j] -= factor * b[i]\n",
    "\n",
    "    # Back substitution\n",
    "    x = [0] * n\n",
    "    for i in range(n - 1, -1, -1):\n",
    "        x[i] = b[i] / A[i][i]\n",
    "        for j in range(i):\n",
    "            b[j] -= A[j][i] * x[i]\n",
    "\n",
    "    return x\n",
    "\n",
    "# Example usage:\n",
    "A = [[2, 3, -4], [1, -1, 1], [3, 6, -8]]  # Coefficient matrix\n",
    "b = [10, 2, 26]                           # Constants vector\n",
    "\n",
    "solution = gaussian_elimination(A, b)\n",
    "print(\"Solution:\", solution)"
   ]
  },
  {
   "cell_type": "code",
   "execution_count": 31,
   "metadata": {
    "code_folding": []
   },
   "outputs": [
    {
     "name": "stdout",
     "output_type": "stream",
     "text": [
      "[[2, 3, -4], [1, -1, 1], [3, 6, -8]] ----> 3\n"
     ]
    }
   ],
   "source": [
    "A = [[2, 3, -4], [1, -1, 1], [3, 6, -8]]  # Coefficient matrix\n",
    "b = [10, 2, 26]                           # Constants vector\n",
    "n = len(A)\n",
    "print(A,\"---->\",n)"
   ]
  },
  {
   "cell_type": "code",
   "execution_count": 32,
   "metadata": {},
   "outputs": [
    {
     "name": "stdout",
     "output_type": "stream",
     "text": [
      "[2, 3, -4]\n",
      "A[j][i]:--> 3\n",
      "A[max_index][i]:--> 2\n",
      "j--> 2\n",
      "[3, 6, -8] [2, 3, -4]\n",
      "26 10\n",
      "-6.666666666666666\n",
      "-7.333333333333332\n",
      "[0.0, -3.0, 3.6666666666666665]\n",
      "-5.111111111111111\n",
      "[0.0, 0.0, 0.11111111111111094]\n"
     ]
    }
   ],
   "source": [
    "# Forward elimination\n",
    "for i in range(n):\n",
    "    # Partial pivoting\n",
    "        max_index = i #0\n",
    "        print(A[max_index]) #0\n",
    "        for j in range(i+1 , n):\n",
    "            \n",
    "            if abs(A[j][i]) > abs(A[max_index][i]):\n",
    "                print(\"A[j][i]:-->\",A[j][i])\n",
    "                print(\"A[max_index][i]:-->\",A[max_index][i])\n",
    "                max_index = j\n",
    "                print(\"j-->\",j)\n",
    "                A[i], A[max_index] = A[max_index], A[i]\n",
    "                b[i], b[max_index] = b[max_index], b[i]\n",
    "                print (A[i], A[max_index])\n",
    "                print (b[i], b[max_index])\n",
    "                        # Make all entries below A[i][i] zero\n",
    "        for j in range(i + 1, n):\n",
    "            factor = A[j][i] / A[i][i]\n",
    "            for k in range(i, n):\n",
    "                A[j][k] -= factor * A[i][k]\n",
    "            b[j] -= factor * b[i]\n",
    "            print(b[j])\n",
    "    "
   ]
  },
  {
   "cell_type": "code",
   "execution_count": null,
   "metadata": {},
   "outputs": [],
   "source": []
  },
  {
   "cell_type": "code",
   "execution_count": 15,
   "metadata": {},
   "outputs": [
    {
     "data": {
      "text/plain": [
       "5"
      ]
     },
     "execution_count": 15,
     "metadata": {},
     "output_type": "execute_result"
    }
   ],
   "source": []
  },
  {
   "cell_type": "code",
   "execution_count": null,
   "metadata": {},
   "outputs": [],
   "source": []
  },
  {
   "cell_type": "code",
   "execution_count": null,
   "metadata": {},
   "outputs": [],
   "source": []
  },
  {
   "cell_type": "code",
   "execution_count": null,
   "metadata": {},
   "outputs": [],
   "source": []
  },
  {
   "cell_type": "code",
   "execution_count": null,
   "metadata": {},
   "outputs": [],
   "source": []
  },
  {
   "cell_type": "code",
   "execution_count": null,
   "metadata": {},
   "outputs": [],
   "source": []
  }
 ],
 "metadata": {
  "kernelspec": {
   "display_name": "Python 3",
   "language": "python",
   "name": "python3"
  },
  "language_info": {
   "codemirror_mode": {
    "name": "ipython",
    "version": 3
   },
   "file_extension": ".py",
   "mimetype": "text/x-python",
   "name": "python",
   "nbconvert_exporter": "python",
   "pygments_lexer": "ipython3",
   "version": "3.6.8"
  },
  "toc": {
   "base_numbering": 1,
   "nav_menu": {},
   "number_sections": true,
   "sideBar": true,
   "skip_h1_title": false,
   "title_cell": "Table of Contents",
   "title_sidebar": "Contents",
   "toc_cell": false,
   "toc_position": {},
   "toc_section_display": true,
   "toc_window_display": false
  }
 },
 "nbformat": 4,
 "nbformat_minor": 2
}
